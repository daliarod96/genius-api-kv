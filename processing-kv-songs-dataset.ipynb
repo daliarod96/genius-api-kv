{
  "nbformat": 4,
  "nbformat_minor": 0,
  "metadata": {
    "colab": {
      "provenance": [],
      "mount_file_id": "1gKPkFL5_iqRPgnIAgKipmwbBnAGQpBVi",
      "authorship_tag": "ABX9TyO64hA+/Wooo2p0txUVnyM3",
      "include_colab_link": true
    },
    "kernelspec": {
      "name": "python3",
      "display_name": "Python 3"
    },
    "language_info": {
      "name": "python"
    }
  },
  "cells": [
    {
      "cell_type": "markdown",
      "metadata": {
        "id": "view-in-github",
        "colab_type": "text"
      },
      "source": [
        "<a href=\"https://colab.research.google.com/github/daliarod96/scraping-Kurt-Vile-lyrics-using-Genius-API/blob/main/processing-kv-songs-dataset.ipynb\" target=\"_parent\"><img src=\"https://colab.research.google.com/assets/colab-badge.svg\" alt=\"Open In Colab\"/></a>"
      ]
    },
    {
      "cell_type": "markdown",
      "source": [
        "I will be processing the Kurt Vile lyrics dataset so I can do some visualizations and sentiment analysis on it.\n"
      ],
      "metadata": {
        "id": "S-qPmUKKmImb"
      }
    },
    {
      "cell_type": "code",
      "source": [
        "import pandas as pd\n",
        "import numpy as np\n",
        "import re"
      ],
      "metadata": {
        "id": "_KJegNWg1DxU"
      },
      "execution_count": 133,
      "outputs": []
    },
    {
      "cell_type": "code",
      "source": [
        "# Import my lyrics dataframe\n",
        "df = pd.read_csv(\"/content/drive/MyDrive/Colab Notebooks/kv-lyrics-unprocessed.csv\")"
      ],
      "metadata": {
        "id": "wrHvO82MyFLy"
      },
      "execution_count": 134,
      "outputs": []
    },
    {
      "cell_type": "code",
      "source": [
        "df.head(10)"
      ],
      "metadata": {
        "colab": {
          "base_uri": "https://localhost:8080/",
          "height": 1000
        },
        "id": "hOWU3Ug179lj",
        "outputId": "17e45036-b06a-4619-c0b3-be0ef8b9c02d"
      },
      "execution_count": 135,
      "outputs": [
        {
          "output_type": "execute_result",
          "data": {
            "text/plain": [
              "   Unnamed: 0                            song-name  \\\n",
              "0           0                              Air Bud   \n",
              "1           1                   All in a Daze Work   \n",
              "2           2                            Amplifier   \n",
              "3           3                          Baby’s Arms   \n",
              "4           4                            Bad Omens   \n",
              "5           5                         Bassackwards   \n",
              "6           6  Beach On The Moon (Recycled Lyrics)   \n",
              "7           7                            Best Love   \n",
              "8           8                      Blackberry Song   \n",
              "9           9                          Black Hands   \n",
              "\n",
              "                                                                                                                                                                                                                                                                                                                                                                                                                                                                                                                                                                                                                                                                                                                                                                                                                                                                                                                                                                                                                                                                                                                                                                                                                                                                                                                                                                                 lyrics  \\\n",
              "0                                                                                                                                                                                                                                                                                                                                                                                                                                                                                                                                                                                                                                                                                                                                                                                                                                                                                           Strange, strange days inside My mind is daily changing And it's charged by The shifting tones of time flying Just in case you were wondering where I Was Was Strange Strange, strange days inside My mind is daily changing As result of the black cloud coming down Just in case you were watching the Horizon Horizon Horizon  (We want out and we want it now) (We wanna take it outta town) (We want out and we want it now) (We wanna take it outta town) Strange, strange days inside   \n",
              "1                                                                                                                                                                                                                                                                                                                                                                                                                                                                                                                                                                                   [Verse 1] Chinese charms and well-tanked in Burbank Strumming unsuccessfully but moreso just pressin' keys and Hey Jack of diamonds all jack of horse Hey man I believe I'm floating and off course of course Guess I got my mind well twisted didn’t I, well…  [Chorus] All in a daze work, and All in a daze work, and All in a daze work, and All in a daze work, and All in a daze work, and All in a… all in a… all in a daze work  [Verse 2] She come flying through like a traveling gypsy show tornado Leaving us lying there bleedin’ Cut wide open, hearts broken Guess I got my mind well twisted didn’t I, well…  Chorus All in a daze work, and All in a daze work, and All in a daze work, and All in a daze work, and All in a daze work, and All in a… all in a… all in a daze work   \n",
              "2                                                                                                                                                                                                                                                                                                                                                                                                                                                                                                                                                                                                                                                                                                                                                                                                                                                                                                Don't just stand [?] your head Don't sit [?] [?] Turn around, to the trees Toss your key 'Cause this is home This is home [?] alone  The [?] That you got to know I don't mean to cause you suffering [?] 'Cause I got nothing in my head [?] To tell a [?] He was alone He was alone Don't sit still[?} [?] head Don't sit [?] [?] Upside down Turn around, towards the amplifier [?] Understand my command Free[?] your keys 'Cause this is home This is home This is home Home Home   \n",
              "3                                                                                                                                                                                                                                                                                                                                                                                                                                                                                                                                                                                            There has been but one true love In my baby’s arms, in my baby’s arms And I got the hands to hold onto them  I get sick of just about everyone And I hide in my baby’s arms, my baby’s arms 'Cause except for her, you know, as I've implied  I will never ever ever be alone 'Cause it’s all in my baby’s hands Shiny, shiny secret stones In my baby’s hands In my baby’s hands  I get sick of just about everyone And I hide in my baby’s arms Shrink myself just like a Tom Thumb And I hide in my baby’s hands Hide in my baby’s hands  'Cause except for her There just ain't nothing to latch onto Yeah, yeah, yeah  There has been but one true love In my baby’s arms In my baby’s arms In my baby’s arms In my baby’s arms In my baby’s arms In my baby’s arms In my baby’s arms   \n",
              "4                                                                                                                                                                                                                                                                                                                                                                                                                                                                                                                                                                                                                                                                                                                                                                                                                                                                                                                                                                                                                                                                                                                                                                                                                                                                                                                                                                                 False   \n",
              "5                                                                                                                                                                                                                                                                                                                                                                                                                                                                                                            [Intro: Spoken] What's in real...what's in real time? Ha ha ha [?]  I was on the beach, but I was thinking about the bay Got to the bay, but by then I was far away I was on the ground but looking straight into the sun But the sun went down and I couldn't find another one For awhile For because it was an all-burning feeling in my chest To fill the void Of a long night unwatched by, well, the sun Until the morn Until when, well, the sun's reborn And so am I From all the scorn buried deep Within the psyche of my soul I was standing down but I was also on the run In my mind  I was on the radio talking with a friend of mine There wasn't no format because well, we like it like that He was out of his mind and I was way out of mine Then everything went backwards With words coming out Bassackwards And I appreciate him to the utmost degree    \n",
              "6  I got a freeway in mind, let go of my head Walk down my line, better be sure you'll be dead You get up on top, these days you gotta be a low-life drifter so Slither up just like a snake upon a spiral staircase  Got a freeway in mind, let go of my head Walk down my line, better be sure you'll be dead You get up on top, these days you gotta be a low-life drifter so Slither up just like a snake upon a spiral staircase Slither up just like a snake upon a spiral staircase  Get your damn hands off of my land Why don't you sock me and get off of my street? 'Cause I scared you out of your own shoes Now I'm gonna tie 'em together and hang 'em on a wire Till it's junkies for hire and I got a hunchback  Got a freeway in mind, let go of my head Walk down my line, better be sure you'll be dead To get up on top, these days you gotta be a low-life drifter So slither up just like a snake upon a spiral staircase Slither up just like a snake upon a spiral staircase Slither up just like a snake upon a spiral staircase Slither up just like a snake upon a spiral staircase Slither up just like a snake upon a spiral staircase Slither up just like a snake upon a spiral staircase Slither up just like a snake upon a spiral staircase Slither up just like a snake upon a spiral staircase Slither up just like a snake upon a spiral staircase   \n",
              "7                                                                                                                                                                                                                                                                                                                                                                                                                                                                                       The best kind of love is found when you're not looking It comes and goes who plant the rose that you least expect it to It's only true and true, if you don't have to ask for it True friends come disguised and go beyond the call of duty Take for example [??] Recognize my cousin, you'll see he's like a brother to me I got a good friend that looks up for me like a father figure [??] to distant relatives Sometimes I lay awake at night turning 'cause I lost my best friend If you had a true friend, I'm sorry and you know I feel for you Me, I lost someone like a doctor, so its deeper than I talk to you It makes me feel like a part of me is dead too Take into account [??] she's my mother She looks to me to protect younger kin, it's a family thing Every son would fight for your sisters and brothers You're the man of the house, but Daddy's gonna stop at nothing   \n",
              "8                                                                                                                                                                                                                                                                                                                                                                                                                                                                                                                                                                                                                                                                                                                                                                                                                                                                                                                             [Verse 1] Man, I like your style Make it last a little while Put yourself under the ground And you come back around I want to see you Still the same  [Verse 2] Girl, you're like a child Your blackberries grow so wild Pick the best ones off the bush You relish and wish you were alright Left with lace With rightness  [Verse 3] My beloved blackberry My love for you floats free Leave yourself in sound Turn around Sing me your blackberry song   \n",
              "9                                                                                                                                                                                                                                                                                                                                                                                                                                                                                                                                                                                                                                                                                                                                                                                                                                                                                                                                                                                                                                                                                                                                                                                                                                                                                                                                                                                 False   \n",
              "\n",
              "   release-year                                          genius-path  \n",
              "0          2013                            /Kurt-vile-air-bud-lyrics  \n",
              "1          2015                 /Kurt-vile-all-in-a-daze-work-lyrics  \n",
              "2          2009                          /Kurt-vile-amplifier-lyrics  \n",
              "3          2011                         /Kurt-vile-babys-arms-lyrics  \n",
              "4          2015                          /Kurt-vile-bad-omens-lyrics  \n",
              "5          2018                       /Kurt-vile-bassackwards-lyrics  \n",
              "6          2009  /Kurt-vile-beach-on-the-moon-recycled-lyrics-lyrics  \n",
              "7             0                          /Kurt-vile-best-love-lyrics  \n",
              "8          2009                    /Kurt-vile-blackberry-song-lyrics  \n",
              "9             0                        /Kurt-vile-black-hands-lyrics  "
            ],
            "text/html": [
              "\n",
              "  <div id=\"df-0bbc627f-f04b-4c42-9a9e-76fc925b2ce7\">\n",
              "    <div class=\"colab-df-container\">\n",
              "      <div>\n",
              "<style scoped>\n",
              "    .dataframe tbody tr th:only-of-type {\n",
              "        vertical-align: middle;\n",
              "    }\n",
              "\n",
              "    .dataframe tbody tr th {\n",
              "        vertical-align: top;\n",
              "    }\n",
              "\n",
              "    .dataframe thead th {\n",
              "        text-align: right;\n",
              "    }\n",
              "</style>\n",
              "<table border=\"1\" class=\"dataframe\">\n",
              "  <thead>\n",
              "    <tr style=\"text-align: right;\">\n",
              "      <th></th>\n",
              "      <th>Unnamed: 0</th>\n",
              "      <th>song-name</th>\n",
              "      <th>lyrics</th>\n",
              "      <th>release-year</th>\n",
              "      <th>genius-path</th>\n",
              "    </tr>\n",
              "  </thead>\n",
              "  <tbody>\n",
              "    <tr>\n",
              "      <th>0</th>\n",
              "      <td>0</td>\n",
              "      <td>Air Bud</td>\n",
              "      <td>Strange, strange days inside My mind is daily changing And it's charged by The shifting tones of time flying Just in case you were wondering where I Was Was Strange Strange, strange days inside My mind is daily changing As result of the black cloud coming down Just in case you were watching the Horizon Horizon Horizon  (We want out and we want it now) (We wanna take it outta town) (We want out and we want it now) (We wanna take it outta town) Strange, strange days inside</td>\n",
              "      <td>2013</td>\n",
              "      <td>/Kurt-vile-air-bud-lyrics</td>\n",
              "    </tr>\n",
              "    <tr>\n",
              "      <th>1</th>\n",
              "      <td>1</td>\n",
              "      <td>All in a Daze Work</td>\n",
              "      <td>[Verse 1] Chinese charms and well-tanked in Burbank Strumming unsuccessfully but moreso just pressin' keys and Hey Jack of diamonds all jack of horse Hey man I believe I'm floating and off course of course Guess I got my mind well twisted didn’t I, well…  [Chorus] All in a daze work, and All in a daze work, and All in a daze work, and All in a daze work, and All in a daze work, and All in a… all in a… all in a daze work  [Verse 2] She come flying through like a traveling gypsy show tornado Leaving us lying there bleedin’ Cut wide open, hearts broken Guess I got my mind well twisted didn’t I, well…  Chorus All in a daze work, and All in a daze work, and All in a daze work, and All in a daze work, and All in a daze work, and All in a… all in a… all in a daze work</td>\n",
              "      <td>2015</td>\n",
              "      <td>/Kurt-vile-all-in-a-daze-work-lyrics</td>\n",
              "    </tr>\n",
              "    <tr>\n",
              "      <th>2</th>\n",
              "      <td>2</td>\n",
              "      <td>Amplifier</td>\n",
              "      <td>Don't just stand [?] your head Don't sit [?] [?] Turn around, to the trees Toss your key 'Cause this is home This is home [?] alone  The [?] That you got to know I don't mean to cause you suffering [?] 'Cause I got nothing in my head [?] To tell a [?] He was alone He was alone Don't sit still[?} [?] head Don't sit [?] [?] Upside down Turn around, towards the amplifier [?] Understand my command Free[?] your keys 'Cause this is home This is home This is home Home Home</td>\n",
              "      <td>2009</td>\n",
              "      <td>/Kurt-vile-amplifier-lyrics</td>\n",
              "    </tr>\n",
              "    <tr>\n",
              "      <th>3</th>\n",
              "      <td>3</td>\n",
              "      <td>Baby’s Arms</td>\n",
              "      <td>There has been but one true love In my baby’s arms, in my baby’s arms And I got the hands to hold onto them  I get sick of just about everyone And I hide in my baby’s arms, my baby’s arms 'Cause except for her, you know, as I've implied  I will never ever ever be alone 'Cause it’s all in my baby’s hands Shiny, shiny secret stones In my baby’s hands In my baby’s hands  I get sick of just about everyone And I hide in my baby’s arms Shrink myself just like a Tom Thumb And I hide in my baby’s hands Hide in my baby’s hands  'Cause except for her There just ain't nothing to latch onto Yeah, yeah, yeah  There has been but one true love In my baby’s arms In my baby’s arms In my baby’s arms In my baby’s arms In my baby’s arms In my baby’s arms In my baby’s arms</td>\n",
              "      <td>2011</td>\n",
              "      <td>/Kurt-vile-babys-arms-lyrics</td>\n",
              "    </tr>\n",
              "    <tr>\n",
              "      <th>4</th>\n",
              "      <td>4</td>\n",
              "      <td>Bad Omens</td>\n",
              "      <td>False</td>\n",
              "      <td>2015</td>\n",
              "      <td>/Kurt-vile-bad-omens-lyrics</td>\n",
              "    </tr>\n",
              "    <tr>\n",
              "      <th>5</th>\n",
              "      <td>5</td>\n",
              "      <td>Bassackwards</td>\n",
              "      <td>[Intro: Spoken] What's in real...what's in real time? Ha ha ha [?]  I was on the beach, but I was thinking about the bay Got to the bay, but by then I was far away I was on the ground but looking straight into the sun But the sun went down and I couldn't find another one For awhile For because it was an all-burning feeling in my chest To fill the void Of a long night unwatched by, well, the sun Until the morn Until when, well, the sun's reborn And so am I From all the scorn buried deep Within the psyche of my soul I was standing down but I was also on the run In my mind  I was on the radio talking with a friend of mine There wasn't no format because well, we like it like that He was out of his mind and I was way out of mine Then everything went backwards With words coming out Bassackwards And I appreciate him to the utmost degree</td>\n",
              "      <td>2018</td>\n",
              "      <td>/Kurt-vile-bassackwards-lyrics</td>\n",
              "    </tr>\n",
              "    <tr>\n",
              "      <th>6</th>\n",
              "      <td>6</td>\n",
              "      <td>Beach On The Moon (Recycled Lyrics)</td>\n",
              "      <td>I got a freeway in mind, let go of my head Walk down my line, better be sure you'll be dead You get up on top, these days you gotta be a low-life drifter so Slither up just like a snake upon a spiral staircase  Got a freeway in mind, let go of my head Walk down my line, better be sure you'll be dead You get up on top, these days you gotta be a low-life drifter so Slither up just like a snake upon a spiral staircase Slither up just like a snake upon a spiral staircase  Get your damn hands off of my land Why don't you sock me and get off of my street? 'Cause I scared you out of your own shoes Now I'm gonna tie 'em together and hang 'em on a wire Till it's junkies for hire and I got a hunchback  Got a freeway in mind, let go of my head Walk down my line, better be sure you'll be dead To get up on top, these days you gotta be a low-life drifter So slither up just like a snake upon a spiral staircase Slither up just like a snake upon a spiral staircase Slither up just like a snake upon a spiral staircase Slither up just like a snake upon a spiral staircase Slither up just like a snake upon a spiral staircase Slither up just like a snake upon a spiral staircase Slither up just like a snake upon a spiral staircase Slither up just like a snake upon a spiral staircase Slither up just like a snake upon a spiral staircase</td>\n",
              "      <td>2009</td>\n",
              "      <td>/Kurt-vile-beach-on-the-moon-recycled-lyrics-lyrics</td>\n",
              "    </tr>\n",
              "    <tr>\n",
              "      <th>7</th>\n",
              "      <td>7</td>\n",
              "      <td>Best Love</td>\n",
              "      <td>The best kind of love is found when you're not looking It comes and goes who plant the rose that you least expect it to It's only true and true, if you don't have to ask for it True friends come disguised and go beyond the call of duty Take for example [??] Recognize my cousin, you'll see he's like a brother to me I got a good friend that looks up for me like a father figure [??] to distant relatives Sometimes I lay awake at night turning 'cause I lost my best friend If you had a true friend, I'm sorry and you know I feel for you Me, I lost someone like a doctor, so its deeper than I talk to you It makes me feel like a part of me is dead too Take into account [??] she's my mother She looks to me to protect younger kin, it's a family thing Every son would fight for your sisters and brothers You're the man of the house, but Daddy's gonna stop at nothing</td>\n",
              "      <td>0</td>\n",
              "      <td>/Kurt-vile-best-love-lyrics</td>\n",
              "    </tr>\n",
              "    <tr>\n",
              "      <th>8</th>\n",
              "      <td>8</td>\n",
              "      <td>Blackberry Song</td>\n",
              "      <td>[Verse 1] Man, I like your style Make it last a little while Put yourself under the ground And you come back around I want to see you Still the same  [Verse 2] Girl, you're like a child Your blackberries grow so wild Pick the best ones off the bush You relish and wish you were alright Left with lace With rightness  [Verse 3] My beloved blackberry My love for you floats free Leave yourself in sound Turn around Sing me your blackberry song</td>\n",
              "      <td>2009</td>\n",
              "      <td>/Kurt-vile-blackberry-song-lyrics</td>\n",
              "    </tr>\n",
              "    <tr>\n",
              "      <th>9</th>\n",
              "      <td>9</td>\n",
              "      <td>Black Hands</td>\n",
              "      <td>False</td>\n",
              "      <td>0</td>\n",
              "      <td>/Kurt-vile-black-hands-lyrics</td>\n",
              "    </tr>\n",
              "  </tbody>\n",
              "</table>\n",
              "</div>\n",
              "      <button class=\"colab-df-convert\" onclick=\"convertToInteractive('df-0bbc627f-f04b-4c42-9a9e-76fc925b2ce7')\"\n",
              "              title=\"Convert this dataframe to an interactive table.\"\n",
              "              style=\"display:none;\">\n",
              "        \n",
              "  <svg xmlns=\"http://www.w3.org/2000/svg\" height=\"24px\"viewBox=\"0 0 24 24\"\n",
              "       width=\"24px\">\n",
              "    <path d=\"M0 0h24v24H0V0z\" fill=\"none\"/>\n",
              "    <path d=\"M18.56 5.44l.94 2.06.94-2.06 2.06-.94-2.06-.94-.94-2.06-.94 2.06-2.06.94zm-11 1L8.5 8.5l.94-2.06 2.06-.94-2.06-.94L8.5 2.5l-.94 2.06-2.06.94zm10 10l.94 2.06.94-2.06 2.06-.94-2.06-.94-.94-2.06-.94 2.06-2.06.94z\"/><path d=\"M17.41 7.96l-1.37-1.37c-.4-.4-.92-.59-1.43-.59-.52 0-1.04.2-1.43.59L10.3 9.45l-7.72 7.72c-.78.78-.78 2.05 0 2.83L4 21.41c.39.39.9.59 1.41.59.51 0 1.02-.2 1.41-.59l7.78-7.78 2.81-2.81c.8-.78.8-2.07 0-2.86zM5.41 20L4 18.59l7.72-7.72 1.47 1.35L5.41 20z\"/>\n",
              "  </svg>\n",
              "      </button>\n",
              "      \n",
              "  <style>\n",
              "    .colab-df-container {\n",
              "      display:flex;\n",
              "      flex-wrap:wrap;\n",
              "      gap: 12px;\n",
              "    }\n",
              "\n",
              "    .colab-df-convert {\n",
              "      background-color: #E8F0FE;\n",
              "      border: none;\n",
              "      border-radius: 50%;\n",
              "      cursor: pointer;\n",
              "      display: none;\n",
              "      fill: #1967D2;\n",
              "      height: 32px;\n",
              "      padding: 0 0 0 0;\n",
              "      width: 32px;\n",
              "    }\n",
              "\n",
              "    .colab-df-convert:hover {\n",
              "      background-color: #E2EBFA;\n",
              "      box-shadow: 0px 1px 2px rgba(60, 64, 67, 0.3), 0px 1px 3px 1px rgba(60, 64, 67, 0.15);\n",
              "      fill: #174EA6;\n",
              "    }\n",
              "\n",
              "    [theme=dark] .colab-df-convert {\n",
              "      background-color: #3B4455;\n",
              "      fill: #D2E3FC;\n",
              "    }\n",
              "\n",
              "    [theme=dark] .colab-df-convert:hover {\n",
              "      background-color: #434B5C;\n",
              "      box-shadow: 0px 1px 3px 1px rgba(0, 0, 0, 0.15);\n",
              "      filter: drop-shadow(0px 1px 2px rgba(0, 0, 0, 0.3));\n",
              "      fill: #FFFFFF;\n",
              "    }\n",
              "  </style>\n",
              "\n",
              "      <script>\n",
              "        const buttonEl =\n",
              "          document.querySelector('#df-0bbc627f-f04b-4c42-9a9e-76fc925b2ce7 button.colab-df-convert');\n",
              "        buttonEl.style.display =\n",
              "          google.colab.kernel.accessAllowed ? 'block' : 'none';\n",
              "\n",
              "        async function convertToInteractive(key) {\n",
              "          const element = document.querySelector('#df-0bbc627f-f04b-4c42-9a9e-76fc925b2ce7');\n",
              "          const dataTable =\n",
              "            await google.colab.kernel.invokeFunction('convertToInteractive',\n",
              "                                                     [key], {});\n",
              "          if (!dataTable) return;\n",
              "\n",
              "          const docLinkHtml = 'Like what you see? Visit the ' +\n",
              "            '<a target=\"_blank\" href=https://colab.research.google.com/notebooks/data_table.ipynb>data table notebook</a>'\n",
              "            + ' to learn more about interactive tables.';\n",
              "          element.innerHTML = '';\n",
              "          dataTable['output_type'] = 'display_data';\n",
              "          await google.colab.output.renderOutput(dataTable, element);\n",
              "          const docLink = document.createElement('div');\n",
              "          docLink.innerHTML = docLinkHtml;\n",
              "          element.appendChild(docLink);\n",
              "        }\n",
              "      </script>\n",
              "    </div>\n",
              "  </div>\n",
              "  "
            ]
          },
          "metadata": {},
          "execution_count": 135
        }
      ]
    },
    {
      "cell_type": "code",
      "source": [
        "# I'm going to drop row 10 because it's not a song.\n",
        "df.drop([10], inplace=True)"
      ],
      "metadata": {
        "id": "lAFRoV9BonqY"
      },
      "execution_count": 136,
      "outputs": []
    },
    {
      "cell_type": "code",
      "source": [
        "df.head(10)"
      ],
      "metadata": {
        "colab": {
          "base_uri": "https://localhost:8080/",
          "height": 1000
        },
        "id": "kbSVw8RAoxRY",
        "outputId": "5eed84bd-ed7e-4419-a4c7-e387acfd7d05"
      },
      "execution_count": 137,
      "outputs": [
        {
          "output_type": "execute_result",
          "data": {
            "text/plain": [
              "   Unnamed: 0                            song-name  \\\n",
              "0           0                              Air Bud   \n",
              "1           1                   All in a Daze Work   \n",
              "2           2                            Amplifier   \n",
              "3           3                          Baby’s Arms   \n",
              "4           4                            Bad Omens   \n",
              "5           5                         Bassackwards   \n",
              "6           6  Beach On The Moon (Recycled Lyrics)   \n",
              "7           7                            Best Love   \n",
              "8           8                      Blackberry Song   \n",
              "9           9                          Black Hands   \n",
              "\n",
              "                                                                                                                                                                                                                                                                                                                                                                                                                                                                                                                                                                                                                                                                                                                                                                                                                                                                                                                                                                                                                                                                                                                                                                                                                                                                                                                                                                                 lyrics  \\\n",
              "0                                                                                                                                                                                                                                                                                                                                                                                                                                                                                                                                                                                                                                                                                                                                                                                                                                                                                           Strange, strange days inside My mind is daily changing And it's charged by The shifting tones of time flying Just in case you were wondering where I Was Was Strange Strange, strange days inside My mind is daily changing As result of the black cloud coming down Just in case you were watching the Horizon Horizon Horizon  (We want out and we want it now) (We wanna take it outta town) (We want out and we want it now) (We wanna take it outta town) Strange, strange days inside   \n",
              "1                                                                                                                                                                                                                                                                                                                                                                                                                                                                                                                                                                                   [Verse 1] Chinese charms and well-tanked in Burbank Strumming unsuccessfully but moreso just pressin' keys and Hey Jack of diamonds all jack of horse Hey man I believe I'm floating and off course of course Guess I got my mind well twisted didn’t I, well…  [Chorus] All in a daze work, and All in a daze work, and All in a daze work, and All in a daze work, and All in a daze work, and All in a… all in a… all in a daze work  [Verse 2] She come flying through like a traveling gypsy show tornado Leaving us lying there bleedin’ Cut wide open, hearts broken Guess I got my mind well twisted didn’t I, well…  Chorus All in a daze work, and All in a daze work, and All in a daze work, and All in a daze work, and All in a daze work, and All in a… all in a… all in a daze work   \n",
              "2                                                                                                                                                                                                                                                                                                                                                                                                                                                                                                                                                                                                                                                                                                                                                                                                                                                                                                Don't just stand [?] your head Don't sit [?] [?] Turn around, to the trees Toss your key 'Cause this is home This is home [?] alone  The [?] That you got to know I don't mean to cause you suffering [?] 'Cause I got nothing in my head [?] To tell a [?] He was alone He was alone Don't sit still[?} [?] head Don't sit [?] [?] Upside down Turn around, towards the amplifier [?] Understand my command Free[?] your keys 'Cause this is home This is home This is home Home Home   \n",
              "3                                                                                                                                                                                                                                                                                                                                                                                                                                                                                                                                                                                            There has been but one true love In my baby’s arms, in my baby’s arms And I got the hands to hold onto them  I get sick of just about everyone And I hide in my baby’s arms, my baby’s arms 'Cause except for her, you know, as I've implied  I will never ever ever be alone 'Cause it’s all in my baby’s hands Shiny, shiny secret stones In my baby’s hands In my baby’s hands  I get sick of just about everyone And I hide in my baby’s arms Shrink myself just like a Tom Thumb And I hide in my baby’s hands Hide in my baby’s hands  'Cause except for her There just ain't nothing to latch onto Yeah, yeah, yeah  There has been but one true love In my baby’s arms In my baby’s arms In my baby’s arms In my baby’s arms In my baby’s arms In my baby’s arms In my baby’s arms   \n",
              "4                                                                                                                                                                                                                                                                                                                                                                                                                                                                                                                                                                                                                                                                                                                                                                                                                                                                                                                                                                                                                                                                                                                                                                                                                                                                                                                                                                                 False   \n",
              "5                                                                                                                                                                                                                                                                                                                                                                                                                                                                                                            [Intro: Spoken] What's in real...what's in real time? Ha ha ha [?]  I was on the beach, but I was thinking about the bay Got to the bay, but by then I was far away I was on the ground but looking straight into the sun But the sun went down and I couldn't find another one For awhile For because it was an all-burning feeling in my chest To fill the void Of a long night unwatched by, well, the sun Until the morn Until when, well, the sun's reborn And so am I From all the scorn buried deep Within the psyche of my soul I was standing down but I was also on the run In my mind  I was on the radio talking with a friend of mine There wasn't no format because well, we like it like that He was out of his mind and I was way out of mine Then everything went backwards With words coming out Bassackwards And I appreciate him to the utmost degree    \n",
              "6  I got a freeway in mind, let go of my head Walk down my line, better be sure you'll be dead You get up on top, these days you gotta be a low-life drifter so Slither up just like a snake upon a spiral staircase  Got a freeway in mind, let go of my head Walk down my line, better be sure you'll be dead You get up on top, these days you gotta be a low-life drifter so Slither up just like a snake upon a spiral staircase Slither up just like a snake upon a spiral staircase  Get your damn hands off of my land Why don't you sock me and get off of my street? 'Cause I scared you out of your own shoes Now I'm gonna tie 'em together and hang 'em on a wire Till it's junkies for hire and I got a hunchback  Got a freeway in mind, let go of my head Walk down my line, better be sure you'll be dead To get up on top, these days you gotta be a low-life drifter So slither up just like a snake upon a spiral staircase Slither up just like a snake upon a spiral staircase Slither up just like a snake upon a spiral staircase Slither up just like a snake upon a spiral staircase Slither up just like a snake upon a spiral staircase Slither up just like a snake upon a spiral staircase Slither up just like a snake upon a spiral staircase Slither up just like a snake upon a spiral staircase Slither up just like a snake upon a spiral staircase   \n",
              "7                                                                                                                                                                                                                                                                                                                                                                                                                                                                                       The best kind of love is found when you're not looking It comes and goes who plant the rose that you least expect it to It's only true and true, if you don't have to ask for it True friends come disguised and go beyond the call of duty Take for example [??] Recognize my cousin, you'll see he's like a brother to me I got a good friend that looks up for me like a father figure [??] to distant relatives Sometimes I lay awake at night turning 'cause I lost my best friend If you had a true friend, I'm sorry and you know I feel for you Me, I lost someone like a doctor, so its deeper than I talk to you It makes me feel like a part of me is dead too Take into account [??] she's my mother She looks to me to protect younger kin, it's a family thing Every son would fight for your sisters and brothers You're the man of the house, but Daddy's gonna stop at nothing   \n",
              "8                                                                                                                                                                                                                                                                                                                                                                                                                                                                                                                                                                                                                                                                                                                                                                                                                                                                                                                             [Verse 1] Man, I like your style Make it last a little while Put yourself under the ground And you come back around I want to see you Still the same  [Verse 2] Girl, you're like a child Your blackberries grow so wild Pick the best ones off the bush You relish and wish you were alright Left with lace With rightness  [Verse 3] My beloved blackberry My love for you floats free Leave yourself in sound Turn around Sing me your blackberry song   \n",
              "9                                                                                                                                                                                                                                                                                                                                                                                                                                                                                                                                                                                                                                                                                                                                                                                                                                                                                                                                                                                                                                                                                                                                                                                                                                                                                                                                                                                 False   \n",
              "\n",
              "   release-year                                          genius-path  \n",
              "0          2013                            /Kurt-vile-air-bud-lyrics  \n",
              "1          2015                 /Kurt-vile-all-in-a-daze-work-lyrics  \n",
              "2          2009                          /Kurt-vile-amplifier-lyrics  \n",
              "3          2011                         /Kurt-vile-babys-arms-lyrics  \n",
              "4          2015                          /Kurt-vile-bad-omens-lyrics  \n",
              "5          2018                       /Kurt-vile-bassackwards-lyrics  \n",
              "6          2009  /Kurt-vile-beach-on-the-moon-recycled-lyrics-lyrics  \n",
              "7             0                          /Kurt-vile-best-love-lyrics  \n",
              "8          2009                    /Kurt-vile-blackberry-song-lyrics  \n",
              "9             0                        /Kurt-vile-black-hands-lyrics  "
            ],
            "text/html": [
              "\n",
              "  <div id=\"df-dee86042-1228-4590-a8cd-b41241ed863b\">\n",
              "    <div class=\"colab-df-container\">\n",
              "      <div>\n",
              "<style scoped>\n",
              "    .dataframe tbody tr th:only-of-type {\n",
              "        vertical-align: middle;\n",
              "    }\n",
              "\n",
              "    .dataframe tbody tr th {\n",
              "        vertical-align: top;\n",
              "    }\n",
              "\n",
              "    .dataframe thead th {\n",
              "        text-align: right;\n",
              "    }\n",
              "</style>\n",
              "<table border=\"1\" class=\"dataframe\">\n",
              "  <thead>\n",
              "    <tr style=\"text-align: right;\">\n",
              "      <th></th>\n",
              "      <th>Unnamed: 0</th>\n",
              "      <th>song-name</th>\n",
              "      <th>lyrics</th>\n",
              "      <th>release-year</th>\n",
              "      <th>genius-path</th>\n",
              "    </tr>\n",
              "  </thead>\n",
              "  <tbody>\n",
              "    <tr>\n",
              "      <th>0</th>\n",
              "      <td>0</td>\n",
              "      <td>Air Bud</td>\n",
              "      <td>Strange, strange days inside My mind is daily changing And it's charged by The shifting tones of time flying Just in case you were wondering where I Was Was Strange Strange, strange days inside My mind is daily changing As result of the black cloud coming down Just in case you were watching the Horizon Horizon Horizon  (We want out and we want it now) (We wanna take it outta town) (We want out and we want it now) (We wanna take it outta town) Strange, strange days inside</td>\n",
              "      <td>2013</td>\n",
              "      <td>/Kurt-vile-air-bud-lyrics</td>\n",
              "    </tr>\n",
              "    <tr>\n",
              "      <th>1</th>\n",
              "      <td>1</td>\n",
              "      <td>All in a Daze Work</td>\n",
              "      <td>[Verse 1] Chinese charms and well-tanked in Burbank Strumming unsuccessfully but moreso just pressin' keys and Hey Jack of diamonds all jack of horse Hey man I believe I'm floating and off course of course Guess I got my mind well twisted didn’t I, well…  [Chorus] All in a daze work, and All in a daze work, and All in a daze work, and All in a daze work, and All in a daze work, and All in a… all in a… all in a daze work  [Verse 2] She come flying through like a traveling gypsy show tornado Leaving us lying there bleedin’ Cut wide open, hearts broken Guess I got my mind well twisted didn’t I, well…  Chorus All in a daze work, and All in a daze work, and All in a daze work, and All in a daze work, and All in a daze work, and All in a… all in a… all in a daze work</td>\n",
              "      <td>2015</td>\n",
              "      <td>/Kurt-vile-all-in-a-daze-work-lyrics</td>\n",
              "    </tr>\n",
              "    <tr>\n",
              "      <th>2</th>\n",
              "      <td>2</td>\n",
              "      <td>Amplifier</td>\n",
              "      <td>Don't just stand [?] your head Don't sit [?] [?] Turn around, to the trees Toss your key 'Cause this is home This is home [?] alone  The [?] That you got to know I don't mean to cause you suffering [?] 'Cause I got nothing in my head [?] To tell a [?] He was alone He was alone Don't sit still[?} [?] head Don't sit [?] [?] Upside down Turn around, towards the amplifier [?] Understand my command Free[?] your keys 'Cause this is home This is home This is home Home Home</td>\n",
              "      <td>2009</td>\n",
              "      <td>/Kurt-vile-amplifier-lyrics</td>\n",
              "    </tr>\n",
              "    <tr>\n",
              "      <th>3</th>\n",
              "      <td>3</td>\n",
              "      <td>Baby’s Arms</td>\n",
              "      <td>There has been but one true love In my baby’s arms, in my baby’s arms And I got the hands to hold onto them  I get sick of just about everyone And I hide in my baby’s arms, my baby’s arms 'Cause except for her, you know, as I've implied  I will never ever ever be alone 'Cause it’s all in my baby’s hands Shiny, shiny secret stones In my baby’s hands In my baby’s hands  I get sick of just about everyone And I hide in my baby’s arms Shrink myself just like a Tom Thumb And I hide in my baby’s hands Hide in my baby’s hands  'Cause except for her There just ain't nothing to latch onto Yeah, yeah, yeah  There has been but one true love In my baby’s arms In my baby’s arms In my baby’s arms In my baby’s arms In my baby’s arms In my baby’s arms In my baby’s arms</td>\n",
              "      <td>2011</td>\n",
              "      <td>/Kurt-vile-babys-arms-lyrics</td>\n",
              "    </tr>\n",
              "    <tr>\n",
              "      <th>4</th>\n",
              "      <td>4</td>\n",
              "      <td>Bad Omens</td>\n",
              "      <td>False</td>\n",
              "      <td>2015</td>\n",
              "      <td>/Kurt-vile-bad-omens-lyrics</td>\n",
              "    </tr>\n",
              "    <tr>\n",
              "      <th>5</th>\n",
              "      <td>5</td>\n",
              "      <td>Bassackwards</td>\n",
              "      <td>[Intro: Spoken] What's in real...what's in real time? Ha ha ha [?]  I was on the beach, but I was thinking about the bay Got to the bay, but by then I was far away I was on the ground but looking straight into the sun But the sun went down and I couldn't find another one For awhile For because it was an all-burning feeling in my chest To fill the void Of a long night unwatched by, well, the sun Until the morn Until when, well, the sun's reborn And so am I From all the scorn buried deep Within the psyche of my soul I was standing down but I was also on the run In my mind  I was on the radio talking with a friend of mine There wasn't no format because well, we like it like that He was out of his mind and I was way out of mine Then everything went backwards With words coming out Bassackwards And I appreciate him to the utmost degree</td>\n",
              "      <td>2018</td>\n",
              "      <td>/Kurt-vile-bassackwards-lyrics</td>\n",
              "    </tr>\n",
              "    <tr>\n",
              "      <th>6</th>\n",
              "      <td>6</td>\n",
              "      <td>Beach On The Moon (Recycled Lyrics)</td>\n",
              "      <td>I got a freeway in mind, let go of my head Walk down my line, better be sure you'll be dead You get up on top, these days you gotta be a low-life drifter so Slither up just like a snake upon a spiral staircase  Got a freeway in mind, let go of my head Walk down my line, better be sure you'll be dead You get up on top, these days you gotta be a low-life drifter so Slither up just like a snake upon a spiral staircase Slither up just like a snake upon a spiral staircase  Get your damn hands off of my land Why don't you sock me and get off of my street? 'Cause I scared you out of your own shoes Now I'm gonna tie 'em together and hang 'em on a wire Till it's junkies for hire and I got a hunchback  Got a freeway in mind, let go of my head Walk down my line, better be sure you'll be dead To get up on top, these days you gotta be a low-life drifter So slither up just like a snake upon a spiral staircase Slither up just like a snake upon a spiral staircase Slither up just like a snake upon a spiral staircase Slither up just like a snake upon a spiral staircase Slither up just like a snake upon a spiral staircase Slither up just like a snake upon a spiral staircase Slither up just like a snake upon a spiral staircase Slither up just like a snake upon a spiral staircase Slither up just like a snake upon a spiral staircase</td>\n",
              "      <td>2009</td>\n",
              "      <td>/Kurt-vile-beach-on-the-moon-recycled-lyrics-lyrics</td>\n",
              "    </tr>\n",
              "    <tr>\n",
              "      <th>7</th>\n",
              "      <td>7</td>\n",
              "      <td>Best Love</td>\n",
              "      <td>The best kind of love is found when you're not looking It comes and goes who plant the rose that you least expect it to It's only true and true, if you don't have to ask for it True friends come disguised and go beyond the call of duty Take for example [??] Recognize my cousin, you'll see he's like a brother to me I got a good friend that looks up for me like a father figure [??] to distant relatives Sometimes I lay awake at night turning 'cause I lost my best friend If you had a true friend, I'm sorry and you know I feel for you Me, I lost someone like a doctor, so its deeper than I talk to you It makes me feel like a part of me is dead too Take into account [??] she's my mother She looks to me to protect younger kin, it's a family thing Every son would fight for your sisters and brothers You're the man of the house, but Daddy's gonna stop at nothing</td>\n",
              "      <td>0</td>\n",
              "      <td>/Kurt-vile-best-love-lyrics</td>\n",
              "    </tr>\n",
              "    <tr>\n",
              "      <th>8</th>\n",
              "      <td>8</td>\n",
              "      <td>Blackberry Song</td>\n",
              "      <td>[Verse 1] Man, I like your style Make it last a little while Put yourself under the ground And you come back around I want to see you Still the same  [Verse 2] Girl, you're like a child Your blackberries grow so wild Pick the best ones off the bush You relish and wish you were alright Left with lace With rightness  [Verse 3] My beloved blackberry My love for you floats free Leave yourself in sound Turn around Sing me your blackberry song</td>\n",
              "      <td>2009</td>\n",
              "      <td>/Kurt-vile-blackberry-song-lyrics</td>\n",
              "    </tr>\n",
              "    <tr>\n",
              "      <th>9</th>\n",
              "      <td>9</td>\n",
              "      <td>Black Hands</td>\n",
              "      <td>False</td>\n",
              "      <td>0</td>\n",
              "      <td>/Kurt-vile-black-hands-lyrics</td>\n",
              "    </tr>\n",
              "  </tbody>\n",
              "</table>\n",
              "</div>\n",
              "      <button class=\"colab-df-convert\" onclick=\"convertToInteractive('df-dee86042-1228-4590-a8cd-b41241ed863b')\"\n",
              "              title=\"Convert this dataframe to an interactive table.\"\n",
              "              style=\"display:none;\">\n",
              "        \n",
              "  <svg xmlns=\"http://www.w3.org/2000/svg\" height=\"24px\"viewBox=\"0 0 24 24\"\n",
              "       width=\"24px\">\n",
              "    <path d=\"M0 0h24v24H0V0z\" fill=\"none\"/>\n",
              "    <path d=\"M18.56 5.44l.94 2.06.94-2.06 2.06-.94-2.06-.94-.94-2.06-.94 2.06-2.06.94zm-11 1L8.5 8.5l.94-2.06 2.06-.94-2.06-.94L8.5 2.5l-.94 2.06-2.06.94zm10 10l.94 2.06.94-2.06 2.06-.94-2.06-.94-.94-2.06-.94 2.06-2.06.94z\"/><path d=\"M17.41 7.96l-1.37-1.37c-.4-.4-.92-.59-1.43-.59-.52 0-1.04.2-1.43.59L10.3 9.45l-7.72 7.72c-.78.78-.78 2.05 0 2.83L4 21.41c.39.39.9.59 1.41.59.51 0 1.02-.2 1.41-.59l7.78-7.78 2.81-2.81c.8-.78.8-2.07 0-2.86zM5.41 20L4 18.59l7.72-7.72 1.47 1.35L5.41 20z\"/>\n",
              "  </svg>\n",
              "      </button>\n",
              "      \n",
              "  <style>\n",
              "    .colab-df-container {\n",
              "      display:flex;\n",
              "      flex-wrap:wrap;\n",
              "      gap: 12px;\n",
              "    }\n",
              "\n",
              "    .colab-df-convert {\n",
              "      background-color: #E8F0FE;\n",
              "      border: none;\n",
              "      border-radius: 50%;\n",
              "      cursor: pointer;\n",
              "      display: none;\n",
              "      fill: #1967D2;\n",
              "      height: 32px;\n",
              "      padding: 0 0 0 0;\n",
              "      width: 32px;\n",
              "    }\n",
              "\n",
              "    .colab-df-convert:hover {\n",
              "      background-color: #E2EBFA;\n",
              "      box-shadow: 0px 1px 2px rgba(60, 64, 67, 0.3), 0px 1px 3px 1px rgba(60, 64, 67, 0.15);\n",
              "      fill: #174EA6;\n",
              "    }\n",
              "\n",
              "    [theme=dark] .colab-df-convert {\n",
              "      background-color: #3B4455;\n",
              "      fill: #D2E3FC;\n",
              "    }\n",
              "\n",
              "    [theme=dark] .colab-df-convert:hover {\n",
              "      background-color: #434B5C;\n",
              "      box-shadow: 0px 1px 3px 1px rgba(0, 0, 0, 0.15);\n",
              "      filter: drop-shadow(0px 1px 2px rgba(0, 0, 0, 0.3));\n",
              "      fill: #FFFFFF;\n",
              "    }\n",
              "  </style>\n",
              "\n",
              "      <script>\n",
              "        const buttonEl =\n",
              "          document.querySelector('#df-dee86042-1228-4590-a8cd-b41241ed863b button.colab-df-convert');\n",
              "        buttonEl.style.display =\n",
              "          google.colab.kernel.accessAllowed ? 'block' : 'none';\n",
              "\n",
              "        async function convertToInteractive(key) {\n",
              "          const element = document.querySelector('#df-dee86042-1228-4590-a8cd-b41241ed863b');\n",
              "          const dataTable =\n",
              "            await google.colab.kernel.invokeFunction('convertToInteractive',\n",
              "                                                     [key], {});\n",
              "          if (!dataTable) return;\n",
              "\n",
              "          const docLinkHtml = 'Like what you see? Visit the ' +\n",
              "            '<a target=\"_blank\" href=https://colab.research.google.com/notebooks/data_table.ipynb>data table notebook</a>'\n",
              "            + ' to learn more about interactive tables.';\n",
              "          element.innerHTML = '';\n",
              "          dataTable['output_type'] = 'display_data';\n",
              "          await google.colab.output.renderOutput(dataTable, element);\n",
              "          const docLink = document.createElement('div');\n",
              "          docLink.innerHTML = docLinkHtml;\n",
              "          element.appendChild(docLink);\n",
              "        }\n",
              "      </script>\n",
              "    </div>\n",
              "  </div>\n",
              "  "
            ]
          },
          "metadata": {},
          "execution_count": 137
        }
      ]
    },
    {
      "cell_type": "code",
      "source": [
        "df.drop(['Unnamed: 0'], axis=1, inplace=True)"
      ],
      "metadata": {
        "id": "YWIoe1UDjFYG"
      },
      "execution_count": 138,
      "outputs": []
    },
    {
      "cell_type": "code",
      "source": [
        "# Take a closer look at the lyrics\n",
        "pd.set_option('display.max_colwidth', None)\n",
        "df"
      ],
      "metadata": {
        "colab": {
          "base_uri": "https://localhost:8080/",
          "height": 1000
        },
        "id": "16apNKkI81ix",
        "outputId": "4a18d847-39a5-4cdd-ce12-463b233f5f4e"
      },
      "execution_count": 139,
      "outputs": [
        {
          "output_type": "execute_result",
          "data": {
            "text/plain": [
              "              song-name  \\\n",
              "0               Air Bud   \n",
              "1    All in a Daze Work   \n",
              "2             Amplifier   \n",
              "3           Baby’s Arms   \n",
              "4             Bad Omens   \n",
              "..                  ...   \n",
              "124          Wheelhouse   \n",
              "125         White Riffs   \n",
              "126    Wild Imagination   \n",
              "127        Wounded Bird   \n",
              "128          Yeah Bones   \n",
              "\n",
              "                                                                                                                                                                                                                                                                                                                                                                                                                                                                                                                                                                                                                                                                                                                                                                                                                                                                                                                                                                                                                                                                                                                                                              lyrics  \\\n",
              "0                                                                                                                                                                                                                                                                                                                                                                                                                                                                                                                                                                                                                                                                        Strange, strange days inside My mind is daily changing And it's charged by The shifting tones of time flying Just in case you were wondering where I Was Was Strange Strange, strange days inside My mind is daily changing As result of the black cloud coming down Just in case you were watching the Horizon Horizon Horizon  (We want out and we want it now) (We wanna take it outta town) (We want out and we want it now) (We wanna take it outta town) Strange, strange days inside   \n",
              "1                                                                                                                                                                                                                                                                                                                                                                [Verse 1] Chinese charms and well-tanked in Burbank Strumming unsuccessfully but moreso just pressin' keys and Hey Jack of diamonds all jack of horse Hey man I believe I'm floating and off course of course Guess I got my mind well twisted didn’t I, well…  [Chorus] All in a daze work, and All in a daze work, and All in a daze work, and All in a daze work, and All in a daze work, and All in a… all in a… all in a daze work  [Verse 2] She come flying through like a traveling gypsy show tornado Leaving us lying there bleedin’ Cut wide open, hearts broken Guess I got my mind well twisted didn’t I, well…  Chorus All in a daze work, and All in a daze work, and All in a daze work, and All in a daze work, and All in a daze work, and All in a… all in a… all in a daze work   \n",
              "2                                                                                                                                                                                                                                                                                                                                                                                                                                                                                                                                                                                                                                                                             Don't just stand [?] your head Don't sit [?] [?] Turn around, to the trees Toss your key 'Cause this is home This is home [?] alone  The [?] That you got to know I don't mean to cause you suffering [?] 'Cause I got nothing in my head [?] To tell a [?] He was alone He was alone Don't sit still[?} [?] head Don't sit [?] [?] Upside down Turn around, towards the amplifier [?] Understand my command Free[?] your keys 'Cause this is home This is home This is home Home Home   \n",
              "3                                                                                                                                                                                                                                                                                                                                                                         There has been but one true love In my baby’s arms, in my baby’s arms And I got the hands to hold onto them  I get sick of just about everyone And I hide in my baby’s arms, my baby’s arms 'Cause except for her, you know, as I've implied  I will never ever ever be alone 'Cause it’s all in my baby’s hands Shiny, shiny secret stones In my baby’s hands In my baby’s hands  I get sick of just about everyone And I hide in my baby’s arms Shrink myself just like a Tom Thumb And I hide in my baby’s hands Hide in my baby’s hands  'Cause except for her There just ain't nothing to latch onto Yeah, yeah, yeah  There has been but one true love In my baby’s arms In my baby’s arms In my baby’s arms In my baby’s arms In my baby’s arms In my baby’s arms In my baby’s arms   \n",
              "4                                                                                                                                                                                                                                                                                                                                                                                                                                                                                                                                                                                                                                                                                                                                                                                                                                                                                                                                                                                                                                                                                                                                                              False   \n",
              "..                                                                                                                                                                                                                                                                                                                                                                                                                                                                                                                                                                                                                                                                                                                                                                                                                                                                                                                                                                                                                                                                                                                                                               ...   \n",
              "124                    [Verse 1] Sometimes I talk too much but I gotta get it out But I don’t wanna talk, I only wanna listen My baby talks soft, my ears are always ringing now Humming a sad song when I’m alone But you gotta be alone to figure things out sometimes Be alone, when even in a crowd of friends and not so Sometimes of whom you just can’t distinguish but Thank god for the former, yeah  [Chorus] Some bow down a hundred times a day or more To find a way, to get back down to the temple one day Find the temple, to bask in the glory of Roll around on a floor of furry carpet then Sleep soundly for the first time in forever and Breathing deep inside [Verse 2] There’s a desert down below the earth’s core A hidden staircase in the house that you reside in A little something from the cupboard over there A little medicine, it’s a medication situation  [Chorus] Some bow down a hundred times a day or more To find a way, to get back down to the temple one day Find the temple, to bask in the glory of Roll around on a floor of furry carpet then Sleep soundly for the first time in forever and Breathing deep inside   \n",
              "125                                                                                                                                                                                                                                                                                                                                                                                                                                                                                                                                                                                                                                                                                                                                                                                                                                                                                                                                                                                                                                                                                                                                                            False   \n",
              "126                                                                                                                                                                                                                                                                                                                                                                                                                                                                                      [Verse 1] I’m looking at you But it’s only a picture so I take that back But it ain’t really a picture It’s just an image on a screen You can imagine if I was though, right? Just like I can imagine you can imagine it, can’t you? I got a wild imagination  [Chorus] Give it some time [x3] Give ya some time [x2] [Verse 2] I’m laughing out loud So much it appears that I’m crying babe, yes Come out on the porch, mama I’ll tell you about my past There’s believers and lovers And druggers and dreamers And drunkards and schemers And I’m afraid that I am feeling much too many feelings Simultaneously, at such a rapid clip  [Chorus x2]  [Verse 1]  [Chorus]   \n",
              "127  Like a wounded bird trying to fly Surrounded by green fern, still a cozy and scenic place to die Lately I've been flying high, then I guess I had to crash Always did I love that I love that line But never did I apply it to myself 'til just then  On the corner of our camping site, there's an entrance there to the woods Watch my kids there as they play While me, I'ma just pick away on a red Fender Palomino guitar for a change  My daddy was a railroad man, imagine all the miles of steel He rode along his wholе life long Now I just put that in a song My mother, she would mеnd our wounds while he was out along the track Maybe try and clip our wings Well, I remember everything Like the red feather wingspan of some great majestic bird Come flying over the horizon Above a field of birds of paradise [?][2:43] Or was it real? Or was it just a dream? Or was it real or just a dream? Just a dream Whew  Like a wounded bird trying to fly Surrounded by some trees in a cozy scenic place Wish the world would stop and take notice of all the disgrace But then breathe in quite deep and smell all the flowers while in bloom    \n",
              "128                                                                                                                                                                                                 (One, two, three, four)  [Verse 1] When nobody calls you on the phone Don't break your bones over it You'll only leave yourself lonesome To show for it When nobody calls you on the phone Don't break your bones Dyin' dead in a black sea of tears over me  [Verse 2] When you're runnin' on the run But you run, run too far (Tomfoolin' and buckwild) Deep in the country wildcats get shot at When you're runnin' on the run But you run too far Where the rednecks raise hell With the shotgun shell (blast!)  [Instrumental]  [Verse 3] When nobody calls me on the phone Won't break my bones over it I don't believe myself lonesome To show for that When nobody calls me on the phone Won't break my bones Dyin' dead in a black sea of tears over me (Over me, over me, over me now) (Over me, over me, over me now) (Over me, over me, over me now) (Over me, over me, over me now) (Over me, over me, over me now) (Over me, over me, over me now)   \n",
              "\n",
              "     release-year                           genius-path  \n",
              "0            2013             /Kurt-vile-air-bud-lyrics  \n",
              "1            2015  /Kurt-vile-all-in-a-daze-work-lyrics  \n",
              "2            2009           /Kurt-vile-amplifier-lyrics  \n",
              "3            2011          /Kurt-vile-babys-arms-lyrics  \n",
              "4            2015           /Kurt-vile-bad-omens-lyrics  \n",
              "..            ...                                   ...  \n",
              "124          2015          /Kurt-vile-wheelhouse-lyrics  \n",
              "125          2009         /Kurt-vile-white-riffs-lyrics  \n",
              "126          2015    /Kurt-vile-wild-imagination-lyrics  \n",
              "127          2022        /Kurt-vile-wounded-bird-lyrics  \n",
              "128          2018          /Kurt-vile-yeah-bones-lyrics  \n",
              "\n",
              "[128 rows x 4 columns]"
            ],
            "text/html": [
              "\n",
              "  <div id=\"df-886d9484-ff32-4fd4-826c-21e192c3093d\">\n",
              "    <div class=\"colab-df-container\">\n",
              "      <div>\n",
              "<style scoped>\n",
              "    .dataframe tbody tr th:only-of-type {\n",
              "        vertical-align: middle;\n",
              "    }\n",
              "\n",
              "    .dataframe tbody tr th {\n",
              "        vertical-align: top;\n",
              "    }\n",
              "\n",
              "    .dataframe thead th {\n",
              "        text-align: right;\n",
              "    }\n",
              "</style>\n",
              "<table border=\"1\" class=\"dataframe\">\n",
              "  <thead>\n",
              "    <tr style=\"text-align: right;\">\n",
              "      <th></th>\n",
              "      <th>song-name</th>\n",
              "      <th>lyrics</th>\n",
              "      <th>release-year</th>\n",
              "      <th>genius-path</th>\n",
              "    </tr>\n",
              "  </thead>\n",
              "  <tbody>\n",
              "    <tr>\n",
              "      <th>0</th>\n",
              "      <td>Air Bud</td>\n",
              "      <td>Strange, strange days inside My mind is daily changing And it's charged by The shifting tones of time flying Just in case you were wondering where I Was Was Strange Strange, strange days inside My mind is daily changing As result of the black cloud coming down Just in case you were watching the Horizon Horizon Horizon  (We want out and we want it now) (We wanna take it outta town) (We want out and we want it now) (We wanna take it outta town) Strange, strange days inside</td>\n",
              "      <td>2013</td>\n",
              "      <td>/Kurt-vile-air-bud-lyrics</td>\n",
              "    </tr>\n",
              "    <tr>\n",
              "      <th>1</th>\n",
              "      <td>All in a Daze Work</td>\n",
              "      <td>[Verse 1] Chinese charms and well-tanked in Burbank Strumming unsuccessfully but moreso just pressin' keys and Hey Jack of diamonds all jack of horse Hey man I believe I'm floating and off course of course Guess I got my mind well twisted didn’t I, well…  [Chorus] All in a daze work, and All in a daze work, and All in a daze work, and All in a daze work, and All in a daze work, and All in a… all in a… all in a daze work  [Verse 2] She come flying through like a traveling gypsy show tornado Leaving us lying there bleedin’ Cut wide open, hearts broken Guess I got my mind well twisted didn’t I, well…  Chorus All in a daze work, and All in a daze work, and All in a daze work, and All in a daze work, and All in a daze work, and All in a… all in a… all in a daze work</td>\n",
              "      <td>2015</td>\n",
              "      <td>/Kurt-vile-all-in-a-daze-work-lyrics</td>\n",
              "    </tr>\n",
              "    <tr>\n",
              "      <th>2</th>\n",
              "      <td>Amplifier</td>\n",
              "      <td>Don't just stand [?] your head Don't sit [?] [?] Turn around, to the trees Toss your key 'Cause this is home This is home [?] alone  The [?] That you got to know I don't mean to cause you suffering [?] 'Cause I got nothing in my head [?] To tell a [?] He was alone He was alone Don't sit still[?} [?] head Don't sit [?] [?] Upside down Turn around, towards the amplifier [?] Understand my command Free[?] your keys 'Cause this is home This is home This is home Home Home</td>\n",
              "      <td>2009</td>\n",
              "      <td>/Kurt-vile-amplifier-lyrics</td>\n",
              "    </tr>\n",
              "    <tr>\n",
              "      <th>3</th>\n",
              "      <td>Baby’s Arms</td>\n",
              "      <td>There has been but one true love In my baby’s arms, in my baby’s arms And I got the hands to hold onto them  I get sick of just about everyone And I hide in my baby’s arms, my baby’s arms 'Cause except for her, you know, as I've implied  I will never ever ever be alone 'Cause it’s all in my baby’s hands Shiny, shiny secret stones In my baby’s hands In my baby’s hands  I get sick of just about everyone And I hide in my baby’s arms Shrink myself just like a Tom Thumb And I hide in my baby’s hands Hide in my baby’s hands  'Cause except for her There just ain't nothing to latch onto Yeah, yeah, yeah  There has been but one true love In my baby’s arms In my baby’s arms In my baby’s arms In my baby’s arms In my baby’s arms In my baby’s arms In my baby’s arms</td>\n",
              "      <td>2011</td>\n",
              "      <td>/Kurt-vile-babys-arms-lyrics</td>\n",
              "    </tr>\n",
              "    <tr>\n",
              "      <th>4</th>\n",
              "      <td>Bad Omens</td>\n",
              "      <td>False</td>\n",
              "      <td>2015</td>\n",
              "      <td>/Kurt-vile-bad-omens-lyrics</td>\n",
              "    </tr>\n",
              "    <tr>\n",
              "      <th>...</th>\n",
              "      <td>...</td>\n",
              "      <td>...</td>\n",
              "      <td>...</td>\n",
              "      <td>...</td>\n",
              "    </tr>\n",
              "    <tr>\n",
              "      <th>124</th>\n",
              "      <td>Wheelhouse</td>\n",
              "      <td>[Verse 1] Sometimes I talk too much but I gotta get it out But I don’t wanna talk, I only wanna listen My baby talks soft, my ears are always ringing now Humming a sad song when I’m alone But you gotta be alone to figure things out sometimes Be alone, when even in a crowd of friends and not so Sometimes of whom you just can’t distinguish but Thank god for the former, yeah  [Chorus] Some bow down a hundred times a day or more To find a way, to get back down to the temple one day Find the temple, to bask in the glory of Roll around on a floor of furry carpet then Sleep soundly for the first time in forever and Breathing deep inside [Verse 2] There’s a desert down below the earth’s core A hidden staircase in the house that you reside in A little something from the cupboard over there A little medicine, it’s a medication situation  [Chorus] Some bow down a hundred times a day or more To find a way, to get back down to the temple one day Find the temple, to bask in the glory of Roll around on a floor of furry carpet then Sleep soundly for the first time in forever and Breathing deep inside</td>\n",
              "      <td>2015</td>\n",
              "      <td>/Kurt-vile-wheelhouse-lyrics</td>\n",
              "    </tr>\n",
              "    <tr>\n",
              "      <th>125</th>\n",
              "      <td>White Riffs</td>\n",
              "      <td>False</td>\n",
              "      <td>2009</td>\n",
              "      <td>/Kurt-vile-white-riffs-lyrics</td>\n",
              "    </tr>\n",
              "    <tr>\n",
              "      <th>126</th>\n",
              "      <td>Wild Imagination</td>\n",
              "      <td>[Verse 1] I’m looking at you But it’s only a picture so I take that back But it ain’t really a picture It’s just an image on a screen You can imagine if I was though, right? Just like I can imagine you can imagine it, can’t you? I got a wild imagination  [Chorus] Give it some time [x3] Give ya some time [x2] [Verse 2] I’m laughing out loud So much it appears that I’m crying babe, yes Come out on the porch, mama I’ll tell you about my past There’s believers and lovers And druggers and dreamers And drunkards and schemers And I’m afraid that I am feeling much too many feelings Simultaneously, at such a rapid clip  [Chorus x2]  [Verse 1]  [Chorus]</td>\n",
              "      <td>2015</td>\n",
              "      <td>/Kurt-vile-wild-imagination-lyrics</td>\n",
              "    </tr>\n",
              "    <tr>\n",
              "      <th>127</th>\n",
              "      <td>Wounded Bird</td>\n",
              "      <td>Like a wounded bird trying to fly Surrounded by green fern, still a cozy and scenic place to die Lately I've been flying high, then I guess I had to crash Always did I love that I love that line But never did I apply it to myself 'til just then  On the corner of our camping site, there's an entrance there to the woods Watch my kids there as they play While me, I'ma just pick away on a red Fender Palomino guitar for a change  My daddy was a railroad man, imagine all the miles of steel He rode along his wholе life long Now I just put that in a song My mother, she would mеnd our wounds while he was out along the track Maybe try and clip our wings Well, I remember everything Like the red feather wingspan of some great majestic bird Come flying over the horizon Above a field of birds of paradise [?][2:43] Or was it real? Or was it just a dream? Or was it real or just a dream? Just a dream Whew  Like a wounded bird trying to fly Surrounded by some trees in a cozy scenic place Wish the world would stop and take notice of all the disgrace But then breathe in quite deep and smell all the flowers while in bloom</td>\n",
              "      <td>2022</td>\n",
              "      <td>/Kurt-vile-wounded-bird-lyrics</td>\n",
              "    </tr>\n",
              "    <tr>\n",
              "      <th>128</th>\n",
              "      <td>Yeah Bones</td>\n",
              "      <td>(One, two, three, four)  [Verse 1] When nobody calls you on the phone Don't break your bones over it You'll only leave yourself lonesome To show for it When nobody calls you on the phone Don't break your bones Dyin' dead in a black sea of tears over me  [Verse 2] When you're runnin' on the run But you run, run too far (Tomfoolin' and buckwild) Deep in the country wildcats get shot at When you're runnin' on the run But you run too far Where the rednecks raise hell With the shotgun shell (blast!)  [Instrumental]  [Verse 3] When nobody calls me on the phone Won't break my bones over it I don't believe myself lonesome To show for that When nobody calls me on the phone Won't break my bones Dyin' dead in a black sea of tears over me (Over me, over me, over me now) (Over me, over me, over me now) (Over me, over me, over me now) (Over me, over me, over me now) (Over me, over me, over me now) (Over me, over me, over me now)</td>\n",
              "      <td>2018</td>\n",
              "      <td>/Kurt-vile-yeah-bones-lyrics</td>\n",
              "    </tr>\n",
              "  </tbody>\n",
              "</table>\n",
              "<p>128 rows × 4 columns</p>\n",
              "</div>\n",
              "      <button class=\"colab-df-convert\" onclick=\"convertToInteractive('df-886d9484-ff32-4fd4-826c-21e192c3093d')\"\n",
              "              title=\"Convert this dataframe to an interactive table.\"\n",
              "              style=\"display:none;\">\n",
              "        \n",
              "  <svg xmlns=\"http://www.w3.org/2000/svg\" height=\"24px\"viewBox=\"0 0 24 24\"\n",
              "       width=\"24px\">\n",
              "    <path d=\"M0 0h24v24H0V0z\" fill=\"none\"/>\n",
              "    <path d=\"M18.56 5.44l.94 2.06.94-2.06 2.06-.94-2.06-.94-.94-2.06-.94 2.06-2.06.94zm-11 1L8.5 8.5l.94-2.06 2.06-.94-2.06-.94L8.5 2.5l-.94 2.06-2.06.94zm10 10l.94 2.06.94-2.06 2.06-.94-2.06-.94-.94-2.06-.94 2.06-2.06.94z\"/><path d=\"M17.41 7.96l-1.37-1.37c-.4-.4-.92-.59-1.43-.59-.52 0-1.04.2-1.43.59L10.3 9.45l-7.72 7.72c-.78.78-.78 2.05 0 2.83L4 21.41c.39.39.9.59 1.41.59.51 0 1.02-.2 1.41-.59l7.78-7.78 2.81-2.81c.8-.78.8-2.07 0-2.86zM5.41 20L4 18.59l7.72-7.72 1.47 1.35L5.41 20z\"/>\n",
              "  </svg>\n",
              "      </button>\n",
              "      \n",
              "  <style>\n",
              "    .colab-df-container {\n",
              "      display:flex;\n",
              "      flex-wrap:wrap;\n",
              "      gap: 12px;\n",
              "    }\n",
              "\n",
              "    .colab-df-convert {\n",
              "      background-color: #E8F0FE;\n",
              "      border: none;\n",
              "      border-radius: 50%;\n",
              "      cursor: pointer;\n",
              "      display: none;\n",
              "      fill: #1967D2;\n",
              "      height: 32px;\n",
              "      padding: 0 0 0 0;\n",
              "      width: 32px;\n",
              "    }\n",
              "\n",
              "    .colab-df-convert:hover {\n",
              "      background-color: #E2EBFA;\n",
              "      box-shadow: 0px 1px 2px rgba(60, 64, 67, 0.3), 0px 1px 3px 1px rgba(60, 64, 67, 0.15);\n",
              "      fill: #174EA6;\n",
              "    }\n",
              "\n",
              "    [theme=dark] .colab-df-convert {\n",
              "      background-color: #3B4455;\n",
              "      fill: #D2E3FC;\n",
              "    }\n",
              "\n",
              "    [theme=dark] .colab-df-convert:hover {\n",
              "      background-color: #434B5C;\n",
              "      box-shadow: 0px 1px 3px 1px rgba(0, 0, 0, 0.15);\n",
              "      filter: drop-shadow(0px 1px 2px rgba(0, 0, 0, 0.3));\n",
              "      fill: #FFFFFF;\n",
              "    }\n",
              "  </style>\n",
              "\n",
              "      <script>\n",
              "        const buttonEl =\n",
              "          document.querySelector('#df-886d9484-ff32-4fd4-826c-21e192c3093d button.colab-df-convert');\n",
              "        buttonEl.style.display =\n",
              "          google.colab.kernel.accessAllowed ? 'block' : 'none';\n",
              "\n",
              "        async function convertToInteractive(key) {\n",
              "          const element = document.querySelector('#df-886d9484-ff32-4fd4-826c-21e192c3093d');\n",
              "          const dataTable =\n",
              "            await google.colab.kernel.invokeFunction('convertToInteractive',\n",
              "                                                     [key], {});\n",
              "          if (!dataTable) return;\n",
              "\n",
              "          const docLinkHtml = 'Like what you see? Visit the ' +\n",
              "            '<a target=\"_blank\" href=https://colab.research.google.com/notebooks/data_table.ipynb>data table notebook</a>'\n",
              "            + ' to learn more about interactive tables.';\n",
              "          element.innerHTML = '';\n",
              "          dataTable['output_type'] = 'display_data';\n",
              "          await google.colab.output.renderOutput(dataTable, element);\n",
              "          const docLink = document.createElement('div');\n",
              "          docLink.innerHTML = docLinkHtml;\n",
              "          element.appendChild(docLink);\n",
              "        }\n",
              "      </script>\n",
              "    </div>\n",
              "  </div>\n",
              "  "
            ]
          },
          "metadata": {},
          "execution_count": 139
        }
      ]
    },
    {
      "cell_type": "markdown",
      "source": [
        "Lyrics procesing:\n",
        "*   remove stuff in brackets \n",
        "*   remove punctuation\n",
        "*   remove parentheses\n",
        "*   turn all letters to lowercase\n"
      ],
      "metadata": {
        "id": "gelg4S3o9v3_"
      }
    },
    {
      "cell_type": "code",
      "source": [
        "sample = \"[?][2:43] [Chorus][x3](One, two, three, four) [Verse 1] When nobody calls you on the phone Don't break your bones over it You'll only leave yourself lonesome To show for it When nobody calls you on the phone Don't break your bones Dyin' dead in a black sea of tears over me [Verse 2] When you're runnin' on the run But you run, run too far (Tomfoolin' and buckwild) Deep in the country wildcats get shot at When you're runnin' on the run But you run too far Where the rednecks raise hell With the shotgun shell (blast!) [Instrumental] [Verse 3] When nobody calls me on the phone Won't break my bones over it I don't believe myself lonesome To show for that When nobody calls me on the phone Won't break my bones Dyin' dead in a black sea of tears over me (Over me, over me, over me now) (Over me, over me, over me now) (Over me, over me, over me now) (Over me, over me, over me now) (Over me, over me, over me now) (Over me, over me, over me now)\"\n",
        "print(sample)"
      ],
      "metadata": {
        "colab": {
          "base_uri": "https://localhost:8080/"
        },
        "id": "aA1N3bIX-L9D",
        "outputId": "07c1fb45-db29-48ed-b6ad-9decff31614b"
      },
      "execution_count": 140,
      "outputs": [
        {
          "output_type": "stream",
          "name": "stdout",
          "text": [
            "[?][2:43] [Chorus][x3](One, two, three, four) [Verse 1] When nobody calls you on the phone Don't break your bones over it You'll only leave yourself lonesome To show for it When nobody calls you on the phone Don't break your bones Dyin' dead in a black sea of tears over me [Verse 2] When you're runnin' on the run But you run, run too far (Tomfoolin' and buckwild) Deep in the country wildcats get shot at When you're runnin' on the run But you run too far Where the rednecks raise hell With the shotgun shell (blast!) [Instrumental] [Verse 3] When nobody calls me on the phone Won't break my bones over it I don't believe myself lonesome To show for that When nobody calls me on the phone Won't break my bones Dyin' dead in a black sea of tears over me (Over me, over me, over me now) (Over me, over me, over me now) (Over me, over me, over me now) (Over me, over me, over me now) (Over me, over me, over me now) (Over me, over me, over me now)\n"
          ]
        }
      ]
    },
    {
      "cell_type": "code",
      "source": [
        "# remove stuff in brackets\n",
        "sample = re.sub(\"\\[[^\\]]*\\]\",'', sample )\n",
        "sample"
      ],
      "metadata": {
        "colab": {
          "base_uri": "https://localhost:8080/",
          "height": 160
        },
        "id": "k8Y3VxdY-qcX",
        "outputId": "a392367e-cb55-49ee-8e45-eded772af7b3"
      },
      "execution_count": 141,
      "outputs": [
        {
          "output_type": "execute_result",
          "data": {
            "text/plain": [
              "\" (One, two, three, four)  When nobody calls you on the phone Don't break your bones over it You'll only leave yourself lonesome To show for it When nobody calls you on the phone Don't break your bones Dyin' dead in a black sea of tears over me  When you're runnin' on the run But you run, run too far (Tomfoolin' and buckwild) Deep in the country wildcats get shot at When you're runnin' on the run But you run too far Where the rednecks raise hell With the shotgun shell (blast!)   When nobody calls me on the phone Won't break my bones over it I don't believe myself lonesome To show for that When nobody calls me on the phone Won't break my bones Dyin' dead in a black sea of tears over me (Over me, over me, over me now) (Over me, over me, over me now) (Over me, over me, over me now) (Over me, over me, over me now) (Over me, over me, over me now) (Over me, over me, over me now)\""
            ],
            "application/vnd.google.colaboratory.intrinsic+json": {
              "type": "string"
            }
          },
          "metadata": {},
          "execution_count": 141
        }
      ]
    },
    {
      "cell_type": "code",
      "source": [
        "# remove anything that's not a word\n",
        "sample = re.sub(\"[^\\w'\\s]\",'', sample)\n",
        "sample"
      ],
      "metadata": {
        "colab": {
          "base_uri": "https://localhost:8080/",
          "height": 160
        },
        "id": "AVvltisP_7pM",
        "outputId": "acceaf1e-7c3c-439b-884a-f6e36e6c0402"
      },
      "execution_count": 142,
      "outputs": [
        {
          "output_type": "execute_result",
          "data": {
            "text/plain": [
              "\" One two three four  When nobody calls you on the phone Don't break your bones over it You'll only leave yourself lonesome To show for it When nobody calls you on the phone Don't break your bones Dyin' dead in a black sea of tears over me  When you're runnin' on the run But you run run too far Tomfoolin' and buckwild Deep in the country wildcats get shot at When you're runnin' on the run But you run too far Where the rednecks raise hell With the shotgun shell blast   When nobody calls me on the phone Won't break my bones over it I don't believe myself lonesome To show for that When nobody calls me on the phone Won't break my bones Dyin' dead in a black sea of tears over me Over me over me over me now Over me over me over me now Over me over me over me now Over me over me over me now Over me over me over me now Over me over me over me now\""
            ],
            "application/vnd.google.colaboratory.intrinsic+json": {
              "type": "string"
            }
          },
          "metadata": {},
          "execution_count": 142
        }
      ]
    },
    {
      "cell_type": "code",
      "source": [
        "# turn all letters to lowercase\n",
        "sample = sample.lower()\n",
        "sample"
      ],
      "metadata": {
        "colab": {
          "base_uri": "https://localhost:8080/",
          "height": 160
        },
        "id": "D5p1oTw-GyEN",
        "outputId": "59e2e655-d065-4d8b-d475-49a08c2b6046"
      },
      "execution_count": 143,
      "outputs": [
        {
          "output_type": "execute_result",
          "data": {
            "text/plain": [
              "\" one two three four  when nobody calls you on the phone don't break your bones over it you'll only leave yourself lonesome to show for it when nobody calls you on the phone don't break your bones dyin' dead in a black sea of tears over me  when you're runnin' on the run but you run run too far tomfoolin' and buckwild deep in the country wildcats get shot at when you're runnin' on the run but you run too far where the rednecks raise hell with the shotgun shell blast   when nobody calls me on the phone won't break my bones over it i don't believe myself lonesome to show for that when nobody calls me on the phone won't break my bones dyin' dead in a black sea of tears over me over me over me over me now over me over me over me now over me over me over me now over me over me over me now over me over me over me now over me over me over me now\""
            ],
            "application/vnd.google.colaboratory.intrinsic+json": {
              "type": "string"
            }
          },
          "metadata": {},
          "execution_count": 143
        }
      ]
    },
    {
      "cell_type": "markdown",
      "source": [
        "Now do all of the above to the entire dataframe.\n",
        "\n"
      ],
      "metadata": {
        "id": "63UFSPTvI1Ju"
      }
    },
    {
      "cell_type": "code",
      "source": [
        "df['lyrics'] = df['lyrics'].apply(lambda x: re.sub(\"\\[[^\\]]*\\]\",'', x))"
      ],
      "metadata": {
        "id": "w-JyYkCfJFZP"
      },
      "execution_count": 144,
      "outputs": []
    },
    {
      "cell_type": "code",
      "source": [
        "df['lyrics'] = df['lyrics'].apply(lambda x: re.sub(\"[^\\w'\\s]\",'', x))"
      ],
      "metadata": {
        "id": "nTrNa3HjPulr"
      },
      "execution_count": 145,
      "outputs": []
    },
    {
      "cell_type": "code",
      "source": [
        "df['lyrics'] = df['lyrics'].apply(lambda x: x.lower())"
      ],
      "metadata": {
        "id": "W9HlvZnjPyqI"
      },
      "execution_count": 146,
      "outputs": []
    },
    {
      "cell_type": "code",
      "source": [
        "df.head()"
      ],
      "metadata": {
        "colab": {
          "base_uri": "https://localhost:8080/",
          "height": 632
        },
        "id": "KLEcEkd4Pzym",
        "outputId": "e2277301-69f1-45d0-aafd-4264f265a707"
      },
      "execution_count": 147,
      "outputs": [
        {
          "output_type": "execute_result",
          "data": {
            "text/plain": [
              "            song-name  \\\n",
              "0             Air Bud   \n",
              "1  All in a Daze Work   \n",
              "2           Amplifier   \n",
              "3         Baby’s Arms   \n",
              "4           Bad Omens   \n",
              "\n",
              "                                                                                                                                                                                                                                                                                                                                                                                                                                                                                                                                                                                                                                                                                                                                                              lyrics  \\\n",
              "0                                                                                                                                                                                                                                                                                   strange strange days inside my mind is daily changing and it's charged by the shifting tones of time flying just in case you were wondering where i was was strange strange strange days inside my mind is daily changing as result of the black cloud coming down just in case you were watching the horizon horizon horizon  we want out and we want it now we wanna take it outta town we want out and we want it now we wanna take it outta town strange strange days inside   \n",
              "1                  chinese charms and welltanked in burbank strumming unsuccessfully but moreso just pressin' keys and hey jack of diamonds all jack of horse hey man i believe i'm floating and off course of course guess i got my mind well twisted didnt i well   all in a daze work and all in a daze work and all in a daze work and all in a daze work and all in a daze work and all in a all in a all in a daze work   she come flying through like a traveling gypsy show tornado leaving us lying there bleedin cut wide open hearts broken guess i got my mind well twisted didnt i well  chorus all in a daze work and all in a daze work and all in a daze work and all in a daze work and all in a daze work and all in a all in a all in a daze work   \n",
              "2                                                                                                                                                                                                                                                                                                                          don't just stand  your head don't sit   turn around to the trees toss your key 'cause this is home this is home  alone  the  that you got to know i don't mean to cause you suffering  'cause i got nothing in my head  to tell a  he was alone he was alone don't sit still head don't sit   upside down turn around towards the amplifier  understand my command free your keys 'cause this is home this is home this is home home home   \n",
              "3  there has been but one true love in my babys arms in my babys arms and i got the hands to hold onto them  i get sick of just about everyone and i hide in my babys arms my babys arms 'cause except for her you know as i've implied  i will never ever ever be alone 'cause its all in my babys hands shiny shiny secret stones in my babys hands in my babys hands  i get sick of just about everyone and i hide in my babys arms shrink myself just like a tom thumb and i hide in my babys hands hide in my babys hands  'cause except for her there just ain't nothing to latch onto yeah yeah yeah  there has been but one true love in my babys arms in my babys arms in my babys arms in my babys arms in my babys arms in my babys arms in my babys arms   \n",
              "4                                                                                                                                                                                                                                                                                                                                                                                                                                                                                                                                                                                                                                                                                                                                                              false   \n",
              "\n",
              "   release-year                           genius-path  \n",
              "0          2013             /Kurt-vile-air-bud-lyrics  \n",
              "1          2015  /Kurt-vile-all-in-a-daze-work-lyrics  \n",
              "2          2009           /Kurt-vile-amplifier-lyrics  \n",
              "3          2011          /Kurt-vile-babys-arms-lyrics  \n",
              "4          2015           /Kurt-vile-bad-omens-lyrics  "
            ],
            "text/html": [
              "\n",
              "  <div id=\"df-b13cf5e9-3736-4243-9cfe-767277571afc\">\n",
              "    <div class=\"colab-df-container\">\n",
              "      <div>\n",
              "<style scoped>\n",
              "    .dataframe tbody tr th:only-of-type {\n",
              "        vertical-align: middle;\n",
              "    }\n",
              "\n",
              "    .dataframe tbody tr th {\n",
              "        vertical-align: top;\n",
              "    }\n",
              "\n",
              "    .dataframe thead th {\n",
              "        text-align: right;\n",
              "    }\n",
              "</style>\n",
              "<table border=\"1\" class=\"dataframe\">\n",
              "  <thead>\n",
              "    <tr style=\"text-align: right;\">\n",
              "      <th></th>\n",
              "      <th>song-name</th>\n",
              "      <th>lyrics</th>\n",
              "      <th>release-year</th>\n",
              "      <th>genius-path</th>\n",
              "    </tr>\n",
              "  </thead>\n",
              "  <tbody>\n",
              "    <tr>\n",
              "      <th>0</th>\n",
              "      <td>Air Bud</td>\n",
              "      <td>strange strange days inside my mind is daily changing and it's charged by the shifting tones of time flying just in case you were wondering where i was was strange strange strange days inside my mind is daily changing as result of the black cloud coming down just in case you were watching the horizon horizon horizon  we want out and we want it now we wanna take it outta town we want out and we want it now we wanna take it outta town strange strange days inside</td>\n",
              "      <td>2013</td>\n",
              "      <td>/Kurt-vile-air-bud-lyrics</td>\n",
              "    </tr>\n",
              "    <tr>\n",
              "      <th>1</th>\n",
              "      <td>All in a Daze Work</td>\n",
              "      <td>chinese charms and welltanked in burbank strumming unsuccessfully but moreso just pressin' keys and hey jack of diamonds all jack of horse hey man i believe i'm floating and off course of course guess i got my mind well twisted didnt i well   all in a daze work and all in a daze work and all in a daze work and all in a daze work and all in a daze work and all in a all in a all in a daze work   she come flying through like a traveling gypsy show tornado leaving us lying there bleedin cut wide open hearts broken guess i got my mind well twisted didnt i well  chorus all in a daze work and all in a daze work and all in a daze work and all in a daze work and all in a daze work and all in a all in a all in a daze work</td>\n",
              "      <td>2015</td>\n",
              "      <td>/Kurt-vile-all-in-a-daze-work-lyrics</td>\n",
              "    </tr>\n",
              "    <tr>\n",
              "      <th>2</th>\n",
              "      <td>Amplifier</td>\n",
              "      <td>don't just stand  your head don't sit   turn around to the trees toss your key 'cause this is home this is home  alone  the  that you got to know i don't mean to cause you suffering  'cause i got nothing in my head  to tell a  he was alone he was alone don't sit still head don't sit   upside down turn around towards the amplifier  understand my command free your keys 'cause this is home this is home this is home home home</td>\n",
              "      <td>2009</td>\n",
              "      <td>/Kurt-vile-amplifier-lyrics</td>\n",
              "    </tr>\n",
              "    <tr>\n",
              "      <th>3</th>\n",
              "      <td>Baby’s Arms</td>\n",
              "      <td>there has been but one true love in my babys arms in my babys arms and i got the hands to hold onto them  i get sick of just about everyone and i hide in my babys arms my babys arms 'cause except for her you know as i've implied  i will never ever ever be alone 'cause its all in my babys hands shiny shiny secret stones in my babys hands in my babys hands  i get sick of just about everyone and i hide in my babys arms shrink myself just like a tom thumb and i hide in my babys hands hide in my babys hands  'cause except for her there just ain't nothing to latch onto yeah yeah yeah  there has been but one true love in my babys arms in my babys arms in my babys arms in my babys arms in my babys arms in my babys arms in my babys arms</td>\n",
              "      <td>2011</td>\n",
              "      <td>/Kurt-vile-babys-arms-lyrics</td>\n",
              "    </tr>\n",
              "    <tr>\n",
              "      <th>4</th>\n",
              "      <td>Bad Omens</td>\n",
              "      <td>false</td>\n",
              "      <td>2015</td>\n",
              "      <td>/Kurt-vile-bad-omens-lyrics</td>\n",
              "    </tr>\n",
              "  </tbody>\n",
              "</table>\n",
              "</div>\n",
              "      <button class=\"colab-df-convert\" onclick=\"convertToInteractive('df-b13cf5e9-3736-4243-9cfe-767277571afc')\"\n",
              "              title=\"Convert this dataframe to an interactive table.\"\n",
              "              style=\"display:none;\">\n",
              "        \n",
              "  <svg xmlns=\"http://www.w3.org/2000/svg\" height=\"24px\"viewBox=\"0 0 24 24\"\n",
              "       width=\"24px\">\n",
              "    <path d=\"M0 0h24v24H0V0z\" fill=\"none\"/>\n",
              "    <path d=\"M18.56 5.44l.94 2.06.94-2.06 2.06-.94-2.06-.94-.94-2.06-.94 2.06-2.06.94zm-11 1L8.5 8.5l.94-2.06 2.06-.94-2.06-.94L8.5 2.5l-.94 2.06-2.06.94zm10 10l.94 2.06.94-2.06 2.06-.94-2.06-.94-.94-2.06-.94 2.06-2.06.94z\"/><path d=\"M17.41 7.96l-1.37-1.37c-.4-.4-.92-.59-1.43-.59-.52 0-1.04.2-1.43.59L10.3 9.45l-7.72 7.72c-.78.78-.78 2.05 0 2.83L4 21.41c.39.39.9.59 1.41.59.51 0 1.02-.2 1.41-.59l7.78-7.78 2.81-2.81c.8-.78.8-2.07 0-2.86zM5.41 20L4 18.59l7.72-7.72 1.47 1.35L5.41 20z\"/>\n",
              "  </svg>\n",
              "      </button>\n",
              "      \n",
              "  <style>\n",
              "    .colab-df-container {\n",
              "      display:flex;\n",
              "      flex-wrap:wrap;\n",
              "      gap: 12px;\n",
              "    }\n",
              "\n",
              "    .colab-df-convert {\n",
              "      background-color: #E8F0FE;\n",
              "      border: none;\n",
              "      border-radius: 50%;\n",
              "      cursor: pointer;\n",
              "      display: none;\n",
              "      fill: #1967D2;\n",
              "      height: 32px;\n",
              "      padding: 0 0 0 0;\n",
              "      width: 32px;\n",
              "    }\n",
              "\n",
              "    .colab-df-convert:hover {\n",
              "      background-color: #E2EBFA;\n",
              "      box-shadow: 0px 1px 2px rgba(60, 64, 67, 0.3), 0px 1px 3px 1px rgba(60, 64, 67, 0.15);\n",
              "      fill: #174EA6;\n",
              "    }\n",
              "\n",
              "    [theme=dark] .colab-df-convert {\n",
              "      background-color: #3B4455;\n",
              "      fill: #D2E3FC;\n",
              "    }\n",
              "\n",
              "    [theme=dark] .colab-df-convert:hover {\n",
              "      background-color: #434B5C;\n",
              "      box-shadow: 0px 1px 3px 1px rgba(0, 0, 0, 0.15);\n",
              "      filter: drop-shadow(0px 1px 2px rgba(0, 0, 0, 0.3));\n",
              "      fill: #FFFFFF;\n",
              "    }\n",
              "  </style>\n",
              "\n",
              "      <script>\n",
              "        const buttonEl =\n",
              "          document.querySelector('#df-b13cf5e9-3736-4243-9cfe-767277571afc button.colab-df-convert');\n",
              "        buttonEl.style.display =\n",
              "          google.colab.kernel.accessAllowed ? 'block' : 'none';\n",
              "\n",
              "        async function convertToInteractive(key) {\n",
              "          const element = document.querySelector('#df-b13cf5e9-3736-4243-9cfe-767277571afc');\n",
              "          const dataTable =\n",
              "            await google.colab.kernel.invokeFunction('convertToInteractive',\n",
              "                                                     [key], {});\n",
              "          if (!dataTable) return;\n",
              "\n",
              "          const docLinkHtml = 'Like what you see? Visit the ' +\n",
              "            '<a target=\"_blank\" href=https://colab.research.google.com/notebooks/data_table.ipynb>data table notebook</a>'\n",
              "            + ' to learn more about interactive tables.';\n",
              "          element.innerHTML = '';\n",
              "          dataTable['output_type'] = 'display_data';\n",
              "          await google.colab.output.renderOutput(dataTable, element);\n",
              "          const docLink = document.createElement('div');\n",
              "          docLink.innerHTML = docLinkHtml;\n",
              "          element.appendChild(docLink);\n",
              "        }\n",
              "      </script>\n",
              "    </div>\n",
              "  </div>\n",
              "  "
            ]
          },
          "metadata": {},
          "execution_count": 147
        }
      ]
    },
    {
      "cell_type": "code",
      "source": [
        "# change instrumental songs' lyrics to \"instrumental\"\n",
        "mask = df['lyrics'] == 'false'\n",
        "df['lyrics'][mask] = 'instrumental'"
      ],
      "metadata": {
        "colab": {
          "base_uri": "https://localhost:8080/"
        },
        "id": "BqYn_vqeP9_s",
        "outputId": "85e2af9f-5c59-4b4a-8e4b-58ae9c32025a"
      },
      "execution_count": 148,
      "outputs": [
        {
          "output_type": "stream",
          "name": "stderr",
          "text": [
            "<ipython-input-148-568ad6d7366f>:3: SettingWithCopyWarning: \n",
            "A value is trying to be set on a copy of a slice from a DataFrame\n",
            "\n",
            "See the caveats in the documentation: https://pandas.pydata.org/pandas-docs/stable/user_guide/indexing.html#returning-a-view-versus-a-copy\n",
            "  df['lyrics'][mask] = 'instrumental'\n"
          ]
        }
      ]
    },
    {
      "cell_type": "code",
      "source": [
        "df"
      ],
      "metadata": {
        "colab": {
          "base_uri": "https://localhost:8080/",
          "height": 1000
        },
        "id": "5Y8aOIwvRzYW",
        "outputId": "d09e3912-b142-40d2-df17-cf7934591b10"
      },
      "execution_count": 149,
      "outputs": [
        {
          "output_type": "execute_result",
          "data": {
            "text/plain": [
              "              song-name  \\\n",
              "0               Air Bud   \n",
              "1    All in a Daze Work   \n",
              "2             Amplifier   \n",
              "3           Baby’s Arms   \n",
              "4             Bad Omens   \n",
              "..                  ...   \n",
              "124          Wheelhouse   \n",
              "125         White Riffs   \n",
              "126    Wild Imagination   \n",
              "127        Wounded Bird   \n",
              "128          Yeah Bones   \n",
              "\n",
              "                                                                                                                                                                                                                                                                                                                                                                                                                                                                                                                                                                                                                                                                                                                                                                                                                                                                                                                                                                                                                                                                                                                                           lyrics  \\\n",
              "0                                                                                                                                                                                                                                                                                                                                                                                                                                                                                                                                                                                                                                                                strange strange days inside my mind is daily changing and it's charged by the shifting tones of time flying just in case you were wondering where i was was strange strange strange days inside my mind is daily changing as result of the black cloud coming down just in case you were watching the horizon horizon horizon  we want out and we want it now we wanna take it outta town we want out and we want it now we wanna take it outta town strange strange days inside   \n",
              "1                                                                                                                                                                                                                                                                                                                                                                                               chinese charms and welltanked in burbank strumming unsuccessfully but moreso just pressin' keys and hey jack of diamonds all jack of horse hey man i believe i'm floating and off course of course guess i got my mind well twisted didnt i well   all in a daze work and all in a daze work and all in a daze work and all in a daze work and all in a daze work and all in a all in a all in a daze work   she come flying through like a traveling gypsy show tornado leaving us lying there bleedin cut wide open hearts broken guess i got my mind well twisted didnt i well  chorus all in a daze work and all in a daze work and all in a daze work and all in a daze work and all in a daze work and all in a all in a all in a daze work   \n",
              "2                                                                                                                                                                                                                                                                                                                                                                                                                                                                                                                                                                                                                                                                                                       don't just stand  your head don't sit   turn around to the trees toss your key 'cause this is home this is home  alone  the  that you got to know i don't mean to cause you suffering  'cause i got nothing in my head  to tell a  he was alone he was alone don't sit still head don't sit   upside down turn around towards the amplifier  understand my command free your keys 'cause this is home this is home this is home home home   \n",
              "3                                                                                                                                                                                                                                                                                                                                                                               there has been but one true love in my babys arms in my babys arms and i got the hands to hold onto them  i get sick of just about everyone and i hide in my babys arms my babys arms 'cause except for her you know as i've implied  i will never ever ever be alone 'cause its all in my babys hands shiny shiny secret stones in my babys hands in my babys hands  i get sick of just about everyone and i hide in my babys arms shrink myself just like a tom thumb and i hide in my babys hands hide in my babys hands  'cause except for her there just ain't nothing to latch onto yeah yeah yeah  there has been but one true love in my babys arms in my babys arms in my babys arms in my babys arms in my babys arms in my babys arms in my babys arms   \n",
              "4                                                                                                                                                                                                                                                                                                                                                                                                                                                                                                                                                                                                                                                                                                                                                                                                                                                                                                                                                                                                                                                                                                                                    instrumental   \n",
              "..                                                                                                                                                                                                                                                                                                                                                                                                                                                                                                                                                                                                                                                                                                                                                                                                                                                                                                                                                                                                                                                                                                                                            ...   \n",
              "124                                                   sometimes i talk too much but i gotta get it out but i dont wanna talk i only wanna listen my baby talks soft my ears are always ringing now humming a sad song when im alone but you gotta be alone to figure things out sometimes be alone when even in a crowd of friends and not so sometimes of whom you just cant distinguish but thank god for the former yeah   some bow down a hundred times a day or more to find a way to get back down to the temple one day find the temple to bask in the glory of roll around on a floor of furry carpet then sleep soundly for the first time in forever and breathing deep inside  theres a desert down below the earths core a hidden staircase in the house that you reside in a little something from the cupboard over there a little medicine its a medication situation   some bow down a hundred times a day or more to find a way to get back down to the temple one day find the temple to bask in the glory of roll around on a floor of furry carpet then sleep soundly for the first time in forever and breathing deep inside   \n",
              "125                                                                                                                                                                                                                                                                                                                                                                                                                                                                                                                                                                                                                                                                                                                                                                                                                                                                                                                                                                                                                                                                                                                                  instrumental   \n",
              "126                                                                                                                                                                                                                                                                                                                                                                                                                                                                                                                                                   im looking at you but its only a picture so i take that back but it aint really a picture its just an image on a screen you can imagine if i was though right just like i can imagine you can imagine it cant you i got a wild imagination   give it some time  give ya some time   im laughing out loud so much it appears that im crying babe yes come out on the porch mama ill tell you about my past theres believers and lovers and druggers and dreamers and drunkards and schemers and im afraid that i am feeling much too many feelings simultaneously at such a rapid clip         \n",
              "127  like a wounded bird trying to fly surrounded by green fern still a cozy and scenic place to die lately i've been flying high then i guess i had to crash always did i love that i love that line but never did i apply it to myself 'til just then  on the corner of our camping site there's an entrance there to the woods watch my kids there as they play while me i'ma just pick away on a red fender palomino guitar for a change  my daddy was a railroad man imagine all the miles of steel he rode along his wholе life long now i just put that in a song my mother she would mеnd our wounds while he was out along the track maybe try and clip our wings well i remember everything like the red feather wingspan of some great majestic bird come flying over the horizon above a field of birds of paradise  or was it real or was it just a dream or was it real or just a dream just a dream whew  like a wounded bird trying to fly surrounded by some trees in a cozy scenic place wish the world would stop and take notice of all the disgrace but then breathe in quite deep and smell all the flowers while in bloom    \n",
              "128                                                                                                                                                                                                                                                          one two three four   when nobody calls you on the phone don't break your bones over it you'll only leave yourself lonesome to show for it when nobody calls you on the phone don't break your bones dyin' dead in a black sea of tears over me   when you're runnin' on the run but you run run too far tomfoolin' and buckwild deep in the country wildcats get shot at when you're runnin' on the run but you run too far where the rednecks raise hell with the shotgun shell blast     when nobody calls me on the phone won't break my bones over it i don't believe myself lonesome to show for that when nobody calls me on the phone won't break my bones dyin' dead in a black sea of tears over me over me over me over me now over me over me over me now over me over me over me now over me over me over me now over me over me over me now over me over me over me now   \n",
              "\n",
              "     release-year                           genius-path  \n",
              "0            2013             /Kurt-vile-air-bud-lyrics  \n",
              "1            2015  /Kurt-vile-all-in-a-daze-work-lyrics  \n",
              "2            2009           /Kurt-vile-amplifier-lyrics  \n",
              "3            2011          /Kurt-vile-babys-arms-lyrics  \n",
              "4            2015           /Kurt-vile-bad-omens-lyrics  \n",
              "..            ...                                   ...  \n",
              "124          2015          /Kurt-vile-wheelhouse-lyrics  \n",
              "125          2009         /Kurt-vile-white-riffs-lyrics  \n",
              "126          2015    /Kurt-vile-wild-imagination-lyrics  \n",
              "127          2022        /Kurt-vile-wounded-bird-lyrics  \n",
              "128          2018          /Kurt-vile-yeah-bones-lyrics  \n",
              "\n",
              "[128 rows x 4 columns]"
            ],
            "text/html": [
              "\n",
              "  <div id=\"df-955a6fed-e0df-42b8-a36e-106ff298a0ab\">\n",
              "    <div class=\"colab-df-container\">\n",
              "      <div>\n",
              "<style scoped>\n",
              "    .dataframe tbody tr th:only-of-type {\n",
              "        vertical-align: middle;\n",
              "    }\n",
              "\n",
              "    .dataframe tbody tr th {\n",
              "        vertical-align: top;\n",
              "    }\n",
              "\n",
              "    .dataframe thead th {\n",
              "        text-align: right;\n",
              "    }\n",
              "</style>\n",
              "<table border=\"1\" class=\"dataframe\">\n",
              "  <thead>\n",
              "    <tr style=\"text-align: right;\">\n",
              "      <th></th>\n",
              "      <th>song-name</th>\n",
              "      <th>lyrics</th>\n",
              "      <th>release-year</th>\n",
              "      <th>genius-path</th>\n",
              "    </tr>\n",
              "  </thead>\n",
              "  <tbody>\n",
              "    <tr>\n",
              "      <th>0</th>\n",
              "      <td>Air Bud</td>\n",
              "      <td>strange strange days inside my mind is daily changing and it's charged by the shifting tones of time flying just in case you were wondering where i was was strange strange strange days inside my mind is daily changing as result of the black cloud coming down just in case you were watching the horizon horizon horizon  we want out and we want it now we wanna take it outta town we want out and we want it now we wanna take it outta town strange strange days inside</td>\n",
              "      <td>2013</td>\n",
              "      <td>/Kurt-vile-air-bud-lyrics</td>\n",
              "    </tr>\n",
              "    <tr>\n",
              "      <th>1</th>\n",
              "      <td>All in a Daze Work</td>\n",
              "      <td>chinese charms and welltanked in burbank strumming unsuccessfully but moreso just pressin' keys and hey jack of diamonds all jack of horse hey man i believe i'm floating and off course of course guess i got my mind well twisted didnt i well   all in a daze work and all in a daze work and all in a daze work and all in a daze work and all in a daze work and all in a all in a all in a daze work   she come flying through like a traveling gypsy show tornado leaving us lying there bleedin cut wide open hearts broken guess i got my mind well twisted didnt i well  chorus all in a daze work and all in a daze work and all in a daze work and all in a daze work and all in a daze work and all in a all in a all in a daze work</td>\n",
              "      <td>2015</td>\n",
              "      <td>/Kurt-vile-all-in-a-daze-work-lyrics</td>\n",
              "    </tr>\n",
              "    <tr>\n",
              "      <th>2</th>\n",
              "      <td>Amplifier</td>\n",
              "      <td>don't just stand  your head don't sit   turn around to the trees toss your key 'cause this is home this is home  alone  the  that you got to know i don't mean to cause you suffering  'cause i got nothing in my head  to tell a  he was alone he was alone don't sit still head don't sit   upside down turn around towards the amplifier  understand my command free your keys 'cause this is home this is home this is home home home</td>\n",
              "      <td>2009</td>\n",
              "      <td>/Kurt-vile-amplifier-lyrics</td>\n",
              "    </tr>\n",
              "    <tr>\n",
              "      <th>3</th>\n",
              "      <td>Baby’s Arms</td>\n",
              "      <td>there has been but one true love in my babys arms in my babys arms and i got the hands to hold onto them  i get sick of just about everyone and i hide in my babys arms my babys arms 'cause except for her you know as i've implied  i will never ever ever be alone 'cause its all in my babys hands shiny shiny secret stones in my babys hands in my babys hands  i get sick of just about everyone and i hide in my babys arms shrink myself just like a tom thumb and i hide in my babys hands hide in my babys hands  'cause except for her there just ain't nothing to latch onto yeah yeah yeah  there has been but one true love in my babys arms in my babys arms in my babys arms in my babys arms in my babys arms in my babys arms in my babys arms</td>\n",
              "      <td>2011</td>\n",
              "      <td>/Kurt-vile-babys-arms-lyrics</td>\n",
              "    </tr>\n",
              "    <tr>\n",
              "      <th>4</th>\n",
              "      <td>Bad Omens</td>\n",
              "      <td>instrumental</td>\n",
              "      <td>2015</td>\n",
              "      <td>/Kurt-vile-bad-omens-lyrics</td>\n",
              "    </tr>\n",
              "    <tr>\n",
              "      <th>...</th>\n",
              "      <td>...</td>\n",
              "      <td>...</td>\n",
              "      <td>...</td>\n",
              "      <td>...</td>\n",
              "    </tr>\n",
              "    <tr>\n",
              "      <th>124</th>\n",
              "      <td>Wheelhouse</td>\n",
              "      <td>sometimes i talk too much but i gotta get it out but i dont wanna talk i only wanna listen my baby talks soft my ears are always ringing now humming a sad song when im alone but you gotta be alone to figure things out sometimes be alone when even in a crowd of friends and not so sometimes of whom you just cant distinguish but thank god for the former yeah   some bow down a hundred times a day or more to find a way to get back down to the temple one day find the temple to bask in the glory of roll around on a floor of furry carpet then sleep soundly for the first time in forever and breathing deep inside  theres a desert down below the earths core a hidden staircase in the house that you reside in a little something from the cupboard over there a little medicine its a medication situation   some bow down a hundred times a day or more to find a way to get back down to the temple one day find the temple to bask in the glory of roll around on a floor of furry carpet then sleep soundly for the first time in forever and breathing deep inside</td>\n",
              "      <td>2015</td>\n",
              "      <td>/Kurt-vile-wheelhouse-lyrics</td>\n",
              "    </tr>\n",
              "    <tr>\n",
              "      <th>125</th>\n",
              "      <td>White Riffs</td>\n",
              "      <td>instrumental</td>\n",
              "      <td>2009</td>\n",
              "      <td>/Kurt-vile-white-riffs-lyrics</td>\n",
              "    </tr>\n",
              "    <tr>\n",
              "      <th>126</th>\n",
              "      <td>Wild Imagination</td>\n",
              "      <td>im looking at you but its only a picture so i take that back but it aint really a picture its just an image on a screen you can imagine if i was though right just like i can imagine you can imagine it cant you i got a wild imagination   give it some time  give ya some time   im laughing out loud so much it appears that im crying babe yes come out on the porch mama ill tell you about my past theres believers and lovers and druggers and dreamers and drunkards and schemers and im afraid that i am feeling much too many feelings simultaneously at such a rapid clip</td>\n",
              "      <td>2015</td>\n",
              "      <td>/Kurt-vile-wild-imagination-lyrics</td>\n",
              "    </tr>\n",
              "    <tr>\n",
              "      <th>127</th>\n",
              "      <td>Wounded Bird</td>\n",
              "      <td>like a wounded bird trying to fly surrounded by green fern still a cozy and scenic place to die lately i've been flying high then i guess i had to crash always did i love that i love that line but never did i apply it to myself 'til just then  on the corner of our camping site there's an entrance there to the woods watch my kids there as they play while me i'ma just pick away on a red fender palomino guitar for a change  my daddy was a railroad man imagine all the miles of steel he rode along his wholе life long now i just put that in a song my mother she would mеnd our wounds while he was out along the track maybe try and clip our wings well i remember everything like the red feather wingspan of some great majestic bird come flying over the horizon above a field of birds of paradise  or was it real or was it just a dream or was it real or just a dream just a dream whew  like a wounded bird trying to fly surrounded by some trees in a cozy scenic place wish the world would stop and take notice of all the disgrace but then breathe in quite deep and smell all the flowers while in bloom</td>\n",
              "      <td>2022</td>\n",
              "      <td>/Kurt-vile-wounded-bird-lyrics</td>\n",
              "    </tr>\n",
              "    <tr>\n",
              "      <th>128</th>\n",
              "      <td>Yeah Bones</td>\n",
              "      <td>one two three four   when nobody calls you on the phone don't break your bones over it you'll only leave yourself lonesome to show for it when nobody calls you on the phone don't break your bones dyin' dead in a black sea of tears over me   when you're runnin' on the run but you run run too far tomfoolin' and buckwild deep in the country wildcats get shot at when you're runnin' on the run but you run too far where the rednecks raise hell with the shotgun shell blast     when nobody calls me on the phone won't break my bones over it i don't believe myself lonesome to show for that when nobody calls me on the phone won't break my bones dyin' dead in a black sea of tears over me over me over me over me now over me over me over me now over me over me over me now over me over me over me now over me over me over me now over me over me over me now</td>\n",
              "      <td>2018</td>\n",
              "      <td>/Kurt-vile-yeah-bones-lyrics</td>\n",
              "    </tr>\n",
              "  </tbody>\n",
              "</table>\n",
              "<p>128 rows × 4 columns</p>\n",
              "</div>\n",
              "      <button class=\"colab-df-convert\" onclick=\"convertToInteractive('df-955a6fed-e0df-42b8-a36e-106ff298a0ab')\"\n",
              "              title=\"Convert this dataframe to an interactive table.\"\n",
              "              style=\"display:none;\">\n",
              "        \n",
              "  <svg xmlns=\"http://www.w3.org/2000/svg\" height=\"24px\"viewBox=\"0 0 24 24\"\n",
              "       width=\"24px\">\n",
              "    <path d=\"M0 0h24v24H0V0z\" fill=\"none\"/>\n",
              "    <path d=\"M18.56 5.44l.94 2.06.94-2.06 2.06-.94-2.06-.94-.94-2.06-.94 2.06-2.06.94zm-11 1L8.5 8.5l.94-2.06 2.06-.94-2.06-.94L8.5 2.5l-.94 2.06-2.06.94zm10 10l.94 2.06.94-2.06 2.06-.94-2.06-.94-.94-2.06-.94 2.06-2.06.94z\"/><path d=\"M17.41 7.96l-1.37-1.37c-.4-.4-.92-.59-1.43-.59-.52 0-1.04.2-1.43.59L10.3 9.45l-7.72 7.72c-.78.78-.78 2.05 0 2.83L4 21.41c.39.39.9.59 1.41.59.51 0 1.02-.2 1.41-.59l7.78-7.78 2.81-2.81c.8-.78.8-2.07 0-2.86zM5.41 20L4 18.59l7.72-7.72 1.47 1.35L5.41 20z\"/>\n",
              "  </svg>\n",
              "      </button>\n",
              "      \n",
              "  <style>\n",
              "    .colab-df-container {\n",
              "      display:flex;\n",
              "      flex-wrap:wrap;\n",
              "      gap: 12px;\n",
              "    }\n",
              "\n",
              "    .colab-df-convert {\n",
              "      background-color: #E8F0FE;\n",
              "      border: none;\n",
              "      border-radius: 50%;\n",
              "      cursor: pointer;\n",
              "      display: none;\n",
              "      fill: #1967D2;\n",
              "      height: 32px;\n",
              "      padding: 0 0 0 0;\n",
              "      width: 32px;\n",
              "    }\n",
              "\n",
              "    .colab-df-convert:hover {\n",
              "      background-color: #E2EBFA;\n",
              "      box-shadow: 0px 1px 2px rgba(60, 64, 67, 0.3), 0px 1px 3px 1px rgba(60, 64, 67, 0.15);\n",
              "      fill: #174EA6;\n",
              "    }\n",
              "\n",
              "    [theme=dark] .colab-df-convert {\n",
              "      background-color: #3B4455;\n",
              "      fill: #D2E3FC;\n",
              "    }\n",
              "\n",
              "    [theme=dark] .colab-df-convert:hover {\n",
              "      background-color: #434B5C;\n",
              "      box-shadow: 0px 1px 3px 1px rgba(0, 0, 0, 0.15);\n",
              "      filter: drop-shadow(0px 1px 2px rgba(0, 0, 0, 0.3));\n",
              "      fill: #FFFFFF;\n",
              "    }\n",
              "  </style>\n",
              "\n",
              "      <script>\n",
              "        const buttonEl =\n",
              "          document.querySelector('#df-955a6fed-e0df-42b8-a36e-106ff298a0ab button.colab-df-convert');\n",
              "        buttonEl.style.display =\n",
              "          google.colab.kernel.accessAllowed ? 'block' : 'none';\n",
              "\n",
              "        async function convertToInteractive(key) {\n",
              "          const element = document.querySelector('#df-955a6fed-e0df-42b8-a36e-106ff298a0ab');\n",
              "          const dataTable =\n",
              "            await google.colab.kernel.invokeFunction('convertToInteractive',\n",
              "                                                     [key], {});\n",
              "          if (!dataTable) return;\n",
              "\n",
              "          const docLinkHtml = 'Like what you see? Visit the ' +\n",
              "            '<a target=\"_blank\" href=https://colab.research.google.com/notebooks/data_table.ipynb>data table notebook</a>'\n",
              "            + ' to learn more about interactive tables.';\n",
              "          element.innerHTML = '';\n",
              "          dataTable['output_type'] = 'display_data';\n",
              "          await google.colab.output.renderOutput(dataTable, element);\n",
              "          const docLink = document.createElement('div');\n",
              "          docLink.innerHTML = docLinkHtml;\n",
              "          element.appendChild(docLink);\n",
              "        }\n",
              "      </script>\n",
              "    </div>\n",
              "  </div>\n",
              "  "
            ]
          },
          "metadata": {},
          "execution_count": 149
        }
      ]
    },
    {
      "cell_type": "code",
      "source": [
        "df['release-year'].unique()"
      ],
      "metadata": {
        "colab": {
          "base_uri": "https://localhost:8080/"
        },
        "id": "SaPRWYPoSYPm",
        "outputId": "01ab4097-9300-4a5a-c0e5-56159308cd92"
      },
      "execution_count": 150,
      "outputs": [
        {
          "output_type": "execute_result",
          "data": {
            "text/plain": [
              "array([2013, 2015, 2009, 2011, 2018,    0, 2016, 2022, 2020, 2010, 2019,\n",
              "       2021, 2008])"
            ]
          },
          "metadata": {},
          "execution_count": 150
        }
      ]
    },
    {
      "cell_type": "markdown",
      "source": [
        "I am only interested in Kurt Vile's officially released music so I am going to delete songs with release date 0."
      ],
      "metadata": {
        "id": "0rYJhomzW3e0"
      }
    },
    {
      "cell_type": "code",
      "source": [
        "mask = df['release-year'] == 0\n",
        "unreleased_indices = list(np.where(mask)[0])"
      ],
      "metadata": {
        "id": "PZ3tRYYwWeK7"
      },
      "execution_count": 151,
      "outputs": []
    },
    {
      "cell_type": "code",
      "source": [
        "unreleased_indices"
      ],
      "metadata": {
        "colab": {
          "base_uri": "https://localhost:8080/"
        },
        "id": "NBZ8TVnfdrR9",
        "outputId": "c513a26d-a7ba-4f47-ca81-f10471ea3e4b"
      },
      "execution_count": 152,
      "outputs": [
        {
          "output_type": "execute_result",
          "data": {
            "text/plain": [
              "[7, 9, 13, 17, 21, 25, 27, 32, 43, 46, 52, 65, 74, 83, 100, 108, 118]"
            ]
          },
          "metadata": {},
          "execution_count": 152
        }
      ]
    },
    {
      "cell_type": "code",
      "source": [
        "df.drop(unreleased_indices, inplace=True)"
      ],
      "metadata": {
        "id": "uLPF_jcbYd_1"
      },
      "execution_count": 153,
      "outputs": []
    },
    {
      "cell_type": "code",
      "source": [
        "df['release-year'].unique()"
      ],
      "metadata": {
        "colab": {
          "base_uri": "https://localhost:8080/"
        },
        "id": "En8dmawJdHDY",
        "outputId": "f39ac538-55b2-4e35-ce68-d5af4de5fb93"
      },
      "execution_count": 154,
      "outputs": [
        {
          "output_type": "execute_result",
          "data": {
            "text/plain": [
              "array([2013, 2015, 2009, 2011, 2018,    0, 2022, 2020, 2010, 2019, 2021,\n",
              "       2008])"
            ]
          },
          "metadata": {},
          "execution_count": 154
        }
      ]
    },
    {
      "cell_type": "code",
      "source": [
        "# save processed dataframe as a CSV file\n",
        "df.to_csv(\"/content/drive/MyDrive/Colab Notebooks/kv-lyrics-processed.csv\")"
      ],
      "metadata": {
        "id": "4SRZI8gajA70"
      },
      "execution_count": 156,
      "outputs": []
    },
    {
      "cell_type": "code",
      "source": [],
      "metadata": {
        "id": "FNcF6gWnms7y"
      },
      "execution_count": null,
      "outputs": []
    }
  ]
}