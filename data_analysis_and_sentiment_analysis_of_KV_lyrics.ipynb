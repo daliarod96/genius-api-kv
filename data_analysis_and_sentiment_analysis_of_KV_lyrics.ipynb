{
  "nbformat": 4,
  "nbformat_minor": 0,
  "metadata": {
    "colab": {
      "provenance": [],
      "mount_file_id": "1zRSQ-k0yqSiHkbAJZRAqcjbpYVXO-xBn",
      "authorship_tag": "ABX9TyMT9CiwxXfr18LevfrcuW5b",
      "include_colab_link": true
    },
    "kernelspec": {
      "name": "python3",
      "display_name": "Python 3"
    },
    "language_info": {
      "name": "python"
    }
  },
  "cells": [
    {
      "cell_type": "markdown",
      "metadata": {
        "id": "view-in-github",
        "colab_type": "text"
      },
      "source": [
        "<a href=\"https://colab.research.google.com/github/daliarod96/scraping-Kurt-Vile-lyrics-using-Genius-API/blob/main/data_analysis_and_sentiment_analysis_of_KV_lyrics.ipynb\" target=\"_parent\"><img src=\"https://colab.research.google.com/assets/colab-badge.svg\" alt=\"Open In Colab\"/></a>"
      ]
    },
    {
      "cell_type": "markdown",
      "source": [
        "### **Data Analysis**"
      ],
      "metadata": {
        "id": "4uZYQaDCIqEl"
      }
    },
    {
      "cell_type": "code",
      "execution_count": 1,
      "metadata": {
        "id": "qAUtJQOVzm60"
      },
      "outputs": [],
      "source": [
        "import pandas as pd\n",
        "import numpy as np\n",
        "import matplotlib.pyplot as plt\n",
        "import matplotlib"
      ]
    },
    {
      "cell_type": "code",
      "source": [
        "lyrics = pd.read_csv(\"/content/drive/MyDrive/Colab Notebooks/kv-lyrics-processed.csv\")"
      ],
      "metadata": {
        "id": "wJU0ui2O02Bw"
      },
      "execution_count": 2,
      "outputs": []
    },
    {
      "cell_type": "code",
      "source": [
        "lyrics.head()"
      ],
      "metadata": {
        "colab": {
          "base_uri": "https://localhost:8080/",
          "height": 206
        },
        "id": "5FOo26xh1ARF",
        "outputId": "8ce23ac7-e545-46b4-fa8c-aed2512b4b85"
      },
      "execution_count": 3,
      "outputs": [
        {
          "output_type": "execute_result",
          "data": {
            "text/plain": [
              "   Unnamed: 0           song-name  \\\n",
              "0           0             Air Bud   \n",
              "1           1  All in a Daze Work   \n",
              "2           2           Amplifier   \n",
              "3           3         Baby’s Arms   \n",
              "4           4           Bad Omens   \n",
              "\n",
              "                                              lyrics  release-year  \\\n",
              "0  strange strange days inside my mind is daily c...          2013   \n",
              "1   chinese charms and welltanked in burbank stru...          2015   \n",
              "2  don't just stand  your head don't sit   turn a...          2009   \n",
              "3  there has been but one true love in my babys a...          2011   \n",
              "4                                       instrumental          2015   \n",
              "\n",
              "                            genius-path  \n",
              "0             /Kurt-vile-air-bud-lyrics  \n",
              "1  /Kurt-vile-all-in-a-daze-work-lyrics  \n",
              "2           /Kurt-vile-amplifier-lyrics  \n",
              "3          /Kurt-vile-babys-arms-lyrics  \n",
              "4           /Kurt-vile-bad-omens-lyrics  "
            ],
            "text/html": [
              "\n",
              "  <div id=\"df-ee7dc5b5-2aa3-4ec7-a5db-e15610338790\">\n",
              "    <div class=\"colab-df-container\">\n",
              "      <div>\n",
              "<style scoped>\n",
              "    .dataframe tbody tr th:only-of-type {\n",
              "        vertical-align: middle;\n",
              "    }\n",
              "\n",
              "    .dataframe tbody tr th {\n",
              "        vertical-align: top;\n",
              "    }\n",
              "\n",
              "    .dataframe thead th {\n",
              "        text-align: right;\n",
              "    }\n",
              "</style>\n",
              "<table border=\"1\" class=\"dataframe\">\n",
              "  <thead>\n",
              "    <tr style=\"text-align: right;\">\n",
              "      <th></th>\n",
              "      <th>Unnamed: 0</th>\n",
              "      <th>song-name</th>\n",
              "      <th>lyrics</th>\n",
              "      <th>release-year</th>\n",
              "      <th>genius-path</th>\n",
              "    </tr>\n",
              "  </thead>\n",
              "  <tbody>\n",
              "    <tr>\n",
              "      <th>0</th>\n",
              "      <td>0</td>\n",
              "      <td>Air Bud</td>\n",
              "      <td>strange strange days inside my mind is daily c...</td>\n",
              "      <td>2013</td>\n",
              "      <td>/Kurt-vile-air-bud-lyrics</td>\n",
              "    </tr>\n",
              "    <tr>\n",
              "      <th>1</th>\n",
              "      <td>1</td>\n",
              "      <td>All in a Daze Work</td>\n",
              "      <td>chinese charms and welltanked in burbank stru...</td>\n",
              "      <td>2015</td>\n",
              "      <td>/Kurt-vile-all-in-a-daze-work-lyrics</td>\n",
              "    </tr>\n",
              "    <tr>\n",
              "      <th>2</th>\n",
              "      <td>2</td>\n",
              "      <td>Amplifier</td>\n",
              "      <td>don't just stand  your head don't sit   turn a...</td>\n",
              "      <td>2009</td>\n",
              "      <td>/Kurt-vile-amplifier-lyrics</td>\n",
              "    </tr>\n",
              "    <tr>\n",
              "      <th>3</th>\n",
              "      <td>3</td>\n",
              "      <td>Baby’s Arms</td>\n",
              "      <td>there has been but one true love in my babys a...</td>\n",
              "      <td>2011</td>\n",
              "      <td>/Kurt-vile-babys-arms-lyrics</td>\n",
              "    </tr>\n",
              "    <tr>\n",
              "      <th>4</th>\n",
              "      <td>4</td>\n",
              "      <td>Bad Omens</td>\n",
              "      <td>instrumental</td>\n",
              "      <td>2015</td>\n",
              "      <td>/Kurt-vile-bad-omens-lyrics</td>\n",
              "    </tr>\n",
              "  </tbody>\n",
              "</table>\n",
              "</div>\n",
              "      <button class=\"colab-df-convert\" onclick=\"convertToInteractive('df-ee7dc5b5-2aa3-4ec7-a5db-e15610338790')\"\n",
              "              title=\"Convert this dataframe to an interactive table.\"\n",
              "              style=\"display:none;\">\n",
              "        \n",
              "  <svg xmlns=\"http://www.w3.org/2000/svg\" height=\"24px\"viewBox=\"0 0 24 24\"\n",
              "       width=\"24px\">\n",
              "    <path d=\"M0 0h24v24H0V0z\" fill=\"none\"/>\n",
              "    <path d=\"M18.56 5.44l.94 2.06.94-2.06 2.06-.94-2.06-.94-.94-2.06-.94 2.06-2.06.94zm-11 1L8.5 8.5l.94-2.06 2.06-.94-2.06-.94L8.5 2.5l-.94 2.06-2.06.94zm10 10l.94 2.06.94-2.06 2.06-.94-2.06-.94-.94-2.06-.94 2.06-2.06.94z\"/><path d=\"M17.41 7.96l-1.37-1.37c-.4-.4-.92-.59-1.43-.59-.52 0-1.04.2-1.43.59L10.3 9.45l-7.72 7.72c-.78.78-.78 2.05 0 2.83L4 21.41c.39.39.9.59 1.41.59.51 0 1.02-.2 1.41-.59l7.78-7.78 2.81-2.81c.8-.78.8-2.07 0-2.86zM5.41 20L4 18.59l7.72-7.72 1.47 1.35L5.41 20z\"/>\n",
              "  </svg>\n",
              "      </button>\n",
              "      \n",
              "  <style>\n",
              "    .colab-df-container {\n",
              "      display:flex;\n",
              "      flex-wrap:wrap;\n",
              "      gap: 12px;\n",
              "    }\n",
              "\n",
              "    .colab-df-convert {\n",
              "      background-color: #E8F0FE;\n",
              "      border: none;\n",
              "      border-radius: 50%;\n",
              "      cursor: pointer;\n",
              "      display: none;\n",
              "      fill: #1967D2;\n",
              "      height: 32px;\n",
              "      padding: 0 0 0 0;\n",
              "      width: 32px;\n",
              "    }\n",
              "\n",
              "    .colab-df-convert:hover {\n",
              "      background-color: #E2EBFA;\n",
              "      box-shadow: 0px 1px 2px rgba(60, 64, 67, 0.3), 0px 1px 3px 1px rgba(60, 64, 67, 0.15);\n",
              "      fill: #174EA6;\n",
              "    }\n",
              "\n",
              "    [theme=dark] .colab-df-convert {\n",
              "      background-color: #3B4455;\n",
              "      fill: #D2E3FC;\n",
              "    }\n",
              "\n",
              "    [theme=dark] .colab-df-convert:hover {\n",
              "      background-color: #434B5C;\n",
              "      box-shadow: 0px 1px 3px 1px rgba(0, 0, 0, 0.15);\n",
              "      filter: drop-shadow(0px 1px 2px rgba(0, 0, 0, 0.3));\n",
              "      fill: #FFFFFF;\n",
              "    }\n",
              "  </style>\n",
              "\n",
              "      <script>\n",
              "        const buttonEl =\n",
              "          document.querySelector('#df-ee7dc5b5-2aa3-4ec7-a5db-e15610338790 button.colab-df-convert');\n",
              "        buttonEl.style.display =\n",
              "          google.colab.kernel.accessAllowed ? 'block' : 'none';\n",
              "\n",
              "        async function convertToInteractive(key) {\n",
              "          const element = document.querySelector('#df-ee7dc5b5-2aa3-4ec7-a5db-e15610338790');\n",
              "          const dataTable =\n",
              "            await google.colab.kernel.invokeFunction('convertToInteractive',\n",
              "                                                     [key], {});\n",
              "          if (!dataTable) return;\n",
              "\n",
              "          const docLinkHtml = 'Like what you see? Visit the ' +\n",
              "            '<a target=\"_blank\" href=https://colab.research.google.com/notebooks/data_table.ipynb>data table notebook</a>'\n",
              "            + ' to learn more about interactive tables.';\n",
              "          element.innerHTML = '';\n",
              "          dataTable['output_type'] = 'display_data';\n",
              "          await google.colab.output.renderOutput(dataTable, element);\n",
              "          const docLink = document.createElement('div');\n",
              "          docLink.innerHTML = docLinkHtml;\n",
              "          element.appendChild(docLink);\n",
              "        }\n",
              "      </script>\n",
              "    </div>\n",
              "  </div>\n",
              "  "
            ]
          },
          "metadata": {},
          "execution_count": 3
        }
      ]
    },
    {
      "cell_type": "code",
      "source": [
        "# First I want to know how many instrumental songs he has \n",
        "\n",
        "mask = lyrics['lyrics'] == 'instrumental'\n",
        "lyrics[mask]\n",
        "\n",
        "labels = ['No lyrics', 'Lyrics']\n",
        "sizes = [len(lyrics[mask]), len(lyrics) - len(lyrics[mask])]\n",
        "fig, ax = plt.subplots()\n",
        "wedges, texts, autotexts = ax.pie(sizes,\n",
        "       #labels=labels,\n",
        "       colors = ['#8A5AC2', '#3575D5'],\n",
        "       wedgeprops = {'edgecolor' : 'white', 'linewidth': 2},\n",
        "       textprops = {'family':  'serif'},\n",
        "       autopct='%1.1f%%')\n",
        "[autotexts[i].set_color('white') for i in range(len(autotexts))]\n",
        "circle = plt.Circle(xy=(0,0), radius=0.3, facecolor='white')\n",
        "plt.gca().add_artist(circle)\n",
        "font = {'family':'serif','color':'black','size':12}\n",
        "ax.set_title(\"Breakdown of Kurt Vile's Instrumental Songs\", fontdict = font)\n",
        "ax.legend(wedges, labels,\n",
        "          loc='center right',\n",
        "          bbox_to_anchor=(1, 0, 0.5, 1))\n",
        "\n",
        "plt.setp(autotexts, size=10, weight=\"bold\", )\n",
        "plt.show()\n",
        "\n",
        "plt.show()"
      ],
      "metadata": {
        "colab": {
          "base_uri": "https://localhost:8080/",
          "height": 427
        },
        "id": "Gueg6s_p1BZa",
        "outputId": "3c6f0eda-905d-4885-e463-c9dfcab75e5a"
      },
      "execution_count": 4,
      "outputs": [
        {
          "output_type": "display_data",
          "data": {
            "text/plain": [
              "<Figure size 640x480 with 1 Axes>"
            ],
            "image/png": "[encoded data removed]"
          },
          "metadata": {}
        }
      ]
    },
    {
      "cell_type": "markdown",
      "source": [
        "I want to analyze KV's lyrics. I will begin by removing instrumental songs from the dataframe."
      ],
      "metadata": {
        "id": "C9_2YWjzsMQO"
      }
    },
    {
      "cell_type": "code",
      "source": [
        "mask = lyrics['lyrics']== 'instrumental'\n",
        "instrumentals = list(np.where(mask)[0])\n",
        "lyrics.drop(instrumentals, inplace=True)\n",
        "lyrics.reset_index(drop=True, inplace=True)"
      ],
      "metadata": {
        "id": "QZ7aDc8bsJF7"
      },
      "execution_count": 5,
      "outputs": []
    },
    {
      "cell_type": "code",
      "source": [
        "len(lyrics)"
      ],
      "metadata": {
        "colab": {
          "base_uri": "https://localhost:8080/"
        },
        "id": "I7Dec2yHrM2L",
        "outputId": "0dfe75a5-3733-4918-d980-bfdec0dd37e9"
      },
      "execution_count": 6,
      "outputs": [
        {
          "output_type": "execute_result",
          "data": {
            "text/plain": [
              "96"
            ]
          },
          "metadata": {},
          "execution_count": 6
        }
      ]
    },
    {
      "cell_type": "markdown",
      "source": [
        "First I want to find the most common words in KV lyrics.  I will start by removing stop words because they don't provide any valuable information about his lyrics. Then I will use the Counter class to find the most common words. "
      ],
      "metadata": {
        "id": "DkhtCt4UdQM4"
      }
    },
    {
      "cell_type": "code",
      "source": [
        "import re\n",
        "import string\n",
        "import nltk\n",
        "\n",
        "import pandas as pd\n",
        "\n",
        "from collections import Counter\n",
        "from nltk.tokenize import word_tokenize\n",
        "from nltk.corpus import stopwords\n",
        "\n",
        "nltk.download('stopwords')\n",
        "\n",
        "stop = stopwords.words()\n"
      ],
      "metadata": {
        "colab": {
          "base_uri": "https://localhost:8080/"
        },
        "id": "r-IIQDod-gzc",
        "outputId": "efca6c6d-3c32-4074-8d78-78fc739f778f"
      },
      "execution_count": 7,
      "outputs": [
        {
          "output_type": "stream",
          "name": "stderr",
          "text": [
            "[nltk_data] Downloading package stopwords to /root/nltk_data...\n",
            "[nltk_data]   Unzipping corpora/stopwords.zip.\n"
          ]
        }
      ]
    },
    {
      "cell_type": "code",
      "source": [
        "# Remove stop words since they don't tell us anything meaningful about his lyrics\n",
        "lyrics['lyrics_without_stopwords'] = lyrics['lyrics'].apply(lambda x: ' '.join([word for word in x.split() if word not in (stop)]))"
      ],
      "metadata": {
        "id": "5WqAjZRiq8fH"
      },
      "execution_count": 8,
      "outputs": []
    },
    {
      "cell_type": "code",
      "source": [
        "# These are some functions I found online to add color gradients to matplotlib\n",
        "# credit: https://medium.com/@BrendanArtley/matplotlib-color-gradients-21374910584b\n",
        "\n",
        "def hex_to_RGB(hex_str):\n",
        "    \"\"\" #FFFFFF -> [255,255,255]\"\"\"\n",
        "    #Pass 16 to the integer function for change of base\n",
        "    return [int(hex_str[i:i+2], 16) for i in range(1,6,2)]\n",
        "\n",
        "def get_color_gradient(c1, c2, n):\n",
        "    \"\"\"\n",
        "    Given two hex colors, returns a color gradient\n",
        "    with n colors.\n",
        "    \"\"\"\n",
        "    assert n > 1\n",
        "    c1_rgb = np.array(hex_to_RGB(c1))/255\n",
        "    c2_rgb = np.array(hex_to_RGB(c2))/255\n",
        "    mix_pcts = [x/(n-1) for x in range(n)]\n",
        "    rgb_colors = [((1-mix)*c1_rgb + (mix*c2_rgb)) for mix in mix_pcts]\n",
        "    return [\"#\" + \"\".join([format(int(round(val*255)), \"02x\") for val in item]) for item in rgb_colors]"
      ],
      "metadata": {
        "id": "TsnNYWRUcjgw"
      },
      "execution_count": 9,
      "outputs": []
    },
    {
      "cell_type": "code",
      "source": [
        "from collections import Counter\n",
        "most_common_words = Counter(\" \".join(lyrics['lyrics_without_stopwords']).split()).most_common(15)\n",
        "x_vals = [x[0] for x in most_common_words]\n",
        "y_vals = [x[1] for x in most_common_words]\n",
        "\n",
        "fig = plt.figure(figsize = (10, 5))\n",
        "\n",
        "color1 = \"#8A5AC2\"\n",
        "color2 = \"#3575D5\"\n",
        "\n",
        "# creating the bar plot\n",
        "plt.bar(x_vals, y_vals, color = get_color_gradient(color1, color2, 15),\n",
        "        width = 0.4)\n",
        " \n",
        "plt.xlabel(\"Words\")\n",
        "plt.ylabel(\"Frequency\")\n",
        "plt.title(\"Most Common Words in Kurt Vile Songs\")\n",
        "plt.show()\n"
      ],
      "metadata": {
        "colab": {
          "base_uri": "https://localhost:8080/",
          "height": 487
        },
        "id": "TVCBGh1Ndhju",
        "outputId": "40c10019-cb14-4a1f-b77c-b371a046c14c"
      },
      "execution_count": 10,
      "outputs": [
        {
          "output_type": "display_data",
          "data": {
            "text/plain": [
              "<Figure size 1000x500 with 1 Axes>"
            ],
            "image/png": "[encoded data removed]"
          },
          "metadata": {}
        }
      ]
    },
    {
      "cell_type": "markdown",
      "source": [
        "His most used word is \"run\". It is probably from his cover of The Velvet Underground's \"Run run run.\"\n",
        "\n",
        "I personally love that \"wanna\" and \"gonna\" are part of his most used words. These words are a reflection of his relaxed and informal writing style."
      ],
      "metadata": {
        "id": "FXlBD78rk2xW"
      }
    },
    {
      "cell_type": "markdown",
      "source": [
        "### **Sentiment Analysis**"
      ],
      "metadata": {
        "id": "XrtXRa4dI06n"
      }
    },
    {
      "cell_type": "markdown",
      "source": [
        "Now I will perform sentiment analysis of Kurt Vile's songs using the NLTK Vader Sentiment Analyzer."
      ],
      "metadata": {
        "id": "yenQKcr3l_Vy"
      }
    },
    {
      "cell_type": "code",
      "source": [
        "from nltk.sentiment.vader import SentimentIntensityAnalyzer\n",
        "import nltk\n",
        "nltk.download('vader_lexicon')"
      ],
      "metadata": {
        "colab": {
          "base_uri": "https://localhost:8080/"
        },
        "id": "zblluHHZmAFs",
        "outputId": "6f2fd736-de11-4072-983a-2b30c4eeb332"
      },
      "execution_count": 11,
      "outputs": [
        {
          "output_type": "stream",
          "name": "stderr",
          "text": [
            "[nltk_data] Downloading package vader_lexicon to /root/nltk_data...\n"
          ]
        },
        {
          "output_type": "execute_result",
          "data": {
            "text/plain": [
              "True"
            ]
          },
          "metadata": {},
          "execution_count": 11
        }
      ]
    },
    {
      "cell_type": "code",
      "source": [
        "analyzer = SentimentIntensityAnalyzer()\n",
        "lyrics['polarity'] = lyrics['lyrics'].apply(lambda x: analyzer.polarity_scores(x))"
      ],
      "metadata": {
        "id": "fHZRKjxDl_7z"
      },
      "execution_count": 12,
      "outputs": []
    },
    {
      "cell_type": "markdown",
      "source": [
        "Now you can see the polarity score of every Kurt Vile song"
      ],
      "metadata": {
        "id": "I27aHxKy151I"
      }
    },
    {
      "cell_type": "code",
      "source": [
        "lyrics.head()"
      ],
      "metadata": {
        "colab": {
          "base_uri": "https://localhost:8080/",
          "height": 354
        },
        "id": "tLF6ljxC1086",
        "outputId": "95159630-87c8-4f24-bcda-de4dffb061f8"
      },
      "execution_count": 13,
      "outputs": [
        {
          "output_type": "execute_result",
          "data": {
            "text/plain": [
              "   Unnamed: 0           song-name  \\\n",
              "0           0             Air Bud   \n",
              "1           1  All in a Daze Work   \n",
              "2           2           Amplifier   \n",
              "3           3         Baby’s Arms   \n",
              "4           5        Bassackwards   \n",
              "\n",
              "                                              lyrics  release-year  \\\n",
              "0  strange strange days inside my mind is daily c...          2013   \n",
              "1   chinese charms and welltanked in burbank stru...          2015   \n",
              "2  don't just stand  your head don't sit   turn a...          2009   \n",
              "3  there has been but one true love in my babys a...          2011   \n",
              "4   what's in realwhat's in real time ha ha ha   ...          2018   \n",
              "\n",
              "                            genius-path  \\\n",
              "0             /Kurt-vile-air-bud-lyrics   \n",
              "1  /Kurt-vile-all-in-a-daze-work-lyrics   \n",
              "2           /Kurt-vile-amplifier-lyrics   \n",
              "3          /Kurt-vile-babys-arms-lyrics   \n",
              "4        /Kurt-vile-bassackwards-lyrics   \n",
              "\n",
              "                            lyrics_without_stopwords  \\\n",
              "0  strange strange days inside mind daily changin...   \n",
              "1  chinese charms welltanked burbank strumming un...   \n",
              "2  stand head turn trees toss key 'cause home hom...   \n",
              "3  love babys arms babys arms hands hold sick hid...   \n",
              "4  realwhat's real time beach bay bay away ground...   \n",
              "\n",
              "                                            polarity  \n",
              "0  {'neg': 0.151, 'neu': 0.795, 'pos': 0.054, 'co...  \n",
              "1  {'neg': 0.228, 'neu': 0.676, 'pos': 0.095, 'co...  \n",
              "2  {'neg': 0.104, 'neu': 0.858, 'pos': 0.038, 'co...  \n",
              "3  {'neg': 0.106, 'neu': 0.729, 'pos': 0.165, 'co...  \n",
              "4  {'neg': 0.02, 'neu': 0.793, 'pos': 0.188, 'com...  "
            ],
            "text/html": [
              "\n",
              "  <div id=\"df-21a5a79e-cc64-4fe0-95e2-6401de86dfea\">\n",
              "    <div class=\"colab-df-container\">\n",
              "      <div>\n",
              "<style scoped>\n",
              "    .dataframe tbody tr th:only-of-type {\n",
              "        vertical-align: middle;\n",
              "    }\n",
              "\n",
              "    .dataframe tbody tr th {\n",
              "        vertical-align: top;\n",
              "    }\n",
              "\n",
              "    .dataframe thead th {\n",
              "        text-align: right;\n",
              "    }\n",
              "</style>\n",
              "<table border=\"1\" class=\"dataframe\">\n",
              "  <thead>\n",
              "    <tr style=\"text-align: right;\">\n",
              "      <th></th>\n",
              "      <th>Unnamed: 0</th>\n",
              "      <th>song-name</th>\n",
              "      <th>lyrics</th>\n",
              "      <th>release-year</th>\n",
              "      <th>genius-path</th>\n",
              "      <th>lyrics_without_stopwords</th>\n",
              "      <th>polarity</th>\n",
              "    </tr>\n",
              "  </thead>\n",
              "  <tbody>\n",
              "    <tr>\n",
              "      <th>0</th>\n",
              "      <td>0</td>\n",
              "      <td>Air Bud</td>\n",
              "      <td>strange strange days inside my mind is daily c...</td>\n",
              "      <td>2013</td>\n",
              "      <td>/Kurt-vile-air-bud-lyrics</td>\n",
              "      <td>strange strange days inside mind daily changin...</td>\n",
              "      <td>{'neg': 0.151, 'neu': 0.795, 'pos': 0.054, 'co...</td>\n",
              "    </tr>\n",
              "    <tr>\n",
              "      <th>1</th>\n",
              "      <td>1</td>\n",
              "      <td>All in a Daze Work</td>\n",
              "      <td>chinese charms and welltanked in burbank stru...</td>\n",
              "      <td>2015</td>\n",
              "      <td>/Kurt-vile-all-in-a-daze-work-lyrics</td>\n",
              "      <td>chinese charms welltanked burbank strumming un...</td>\n",
              "      <td>{'neg': 0.228, 'neu': 0.676, 'pos': 0.095, 'co...</td>\n",
              "    </tr>\n",
              "    <tr>\n",
              "      <th>2</th>\n",
              "      <td>2</td>\n",
              "      <td>Amplifier</td>\n",
              "      <td>don't just stand  your head don't sit   turn a...</td>\n",
              "      <td>2009</td>\n",
              "      <td>/Kurt-vile-amplifier-lyrics</td>\n",
              "      <td>stand head turn trees toss key 'cause home hom...</td>\n",
              "      <td>{'neg': 0.104, 'neu': 0.858, 'pos': 0.038, 'co...</td>\n",
              "    </tr>\n",
              "    <tr>\n",
              "      <th>3</th>\n",
              "      <td>3</td>\n",
              "      <td>Baby’s Arms</td>\n",
              "      <td>there has been but one true love in my babys a...</td>\n",
              "      <td>2011</td>\n",
              "      <td>/Kurt-vile-babys-arms-lyrics</td>\n",
              "      <td>love babys arms babys arms hands hold sick hid...</td>\n",
              "      <td>{'neg': 0.106, 'neu': 0.729, 'pos': 0.165, 'co...</td>\n",
              "    </tr>\n",
              "    <tr>\n",
              "      <th>4</th>\n",
              "      <td>5</td>\n",
              "      <td>Bassackwards</td>\n",
              "      <td>what's in realwhat's in real time ha ha ha   ...</td>\n",
              "      <td>2018</td>\n",
              "      <td>/Kurt-vile-bassackwards-lyrics</td>\n",
              "      <td>realwhat's real time beach bay bay away ground...</td>\n",
              "      <td>{'neg': 0.02, 'neu': 0.793, 'pos': 0.188, 'com...</td>\n",
              "    </tr>\n",
              "  </tbody>\n",
              "</table>\n",
              "</div>\n",
              "      <button class=\"colab-df-convert\" onclick=\"convertToInteractive('df-21a5a79e-cc64-4fe0-95e2-6401de86dfea')\"\n",
              "              title=\"Convert this dataframe to an interactive table.\"\n",
              "              style=\"display:none;\">\n",
              "        \n",
              "  <svg xmlns=\"http://www.w3.org/2000/svg\" height=\"24px\"viewBox=\"0 0 24 24\"\n",
              "       width=\"24px\">\n",
              "    <path d=\"M0 0h24v24H0V0z\" fill=\"none\"/>\n",
              "    <path d=\"M18.56 5.44l.94 2.06.94-2.06 2.06-.94-2.06-.94-.94-2.06-.94 2.06-2.06.94zm-11 1L8.5 8.5l.94-2.06 2.06-.94-2.06-.94L8.5 2.5l-.94 2.06-2.06.94zm10 10l.94 2.06.94-2.06 2.06-.94-2.06-.94-.94-2.06-.94 2.06-2.06.94z\"/><path d=\"M17.41 7.96l-1.37-1.37c-.4-.4-.92-.59-1.43-.59-.52 0-1.04.2-1.43.59L10.3 9.45l-7.72 7.72c-.78.78-.78 2.05 0 2.83L4 21.41c.39.39.9.59 1.41.59.51 0 1.02-.2 1.41-.59l7.78-7.78 2.81-2.81c.8-.78.8-2.07 0-2.86zM5.41 20L4 18.59l7.72-7.72 1.47 1.35L5.41 20z\"/>\n",
              "  </svg>\n",
              "      </button>\n",
              "      \n",
              "  <style>\n",
              "    .colab-df-container {\n",
              "      display:flex;\n",
              "      flex-wrap:wrap;\n",
              "      gap: 12px;\n",
              "    }\n",
              "\n",
              "    .colab-df-convert {\n",
              "      background-color: #E8F0FE;\n",
              "      border: none;\n",
              "      border-radius: 50%;\n",
              "      cursor: pointer;\n",
              "      display: none;\n",
              "      fill: #1967D2;\n",
              "      height: 32px;\n",
              "      padding: 0 0 0 0;\n",
              "      width: 32px;\n",
              "    }\n",
              "\n",
              "    .colab-df-convert:hover {\n",
              "      background-color: #E2EBFA;\n",
              "      box-shadow: 0px 1px 2px rgba(60, 64, 67, 0.3), 0px 1px 3px 1px rgba(60, 64, 67, 0.15);\n",
              "      fill: #174EA6;\n",
              "    }\n",
              "\n",
              "    [theme=dark] .colab-df-convert {\n",
              "      background-color: #3B4455;\n",
              "      fill: #D2E3FC;\n",
              "    }\n",
              "\n",
              "    [theme=dark] .colab-df-convert:hover {\n",
              "      background-color: #434B5C;\n",
              "      box-shadow: 0px 1px 3px 1px rgba(0, 0, 0, 0.15);\n",
              "      filter: drop-shadow(0px 1px 2px rgba(0, 0, 0, 0.3));\n",
              "      fill: #FFFFFF;\n",
              "    }\n",
              "  </style>\n",
              "\n",
              "      <script>\n",
              "        const buttonEl =\n",
              "          document.querySelector('#df-21a5a79e-cc64-4fe0-95e2-6401de86dfea button.colab-df-convert');\n",
              "        buttonEl.style.display =\n",
              "          google.colab.kernel.accessAllowed ? 'block' : 'none';\n",
              "\n",
              "        async function convertToInteractive(key) {\n",
              "          const element = document.querySelector('#df-21a5a79e-cc64-4fe0-95e2-6401de86dfea');\n",
              "          const dataTable =\n",
              "            await google.colab.kernel.invokeFunction('convertToInteractive',\n",
              "                                                     [key], {});\n",
              "          if (!dataTable) return;\n",
              "\n",
              "          const docLinkHtml = 'Like what you see? Visit the ' +\n",
              "            '<a target=\"_blank\" href=https://colab.research.google.com/notebooks/data_table.ipynb>data table notebook</a>'\n",
              "            + ' to learn more about interactive tables.';\n",
              "          element.innerHTML = '';\n",
              "          dataTable['output_type'] = 'display_data';\n",
              "          await google.colab.output.renderOutput(dataTable, element);\n",
              "          const docLink = document.createElement('div');\n",
              "          docLink.innerHTML = docLinkHtml;\n",
              "          element.appendChild(docLink);\n",
              "        }\n",
              "      </script>\n",
              "    </div>\n",
              "  </div>\n",
              "  "
            ]
          },
          "metadata": {},
          "execution_count": 13
        }
      ]
    },
    {
      "cell_type": "code",
      "source": [
        "# Change data structure\n",
        "lyrics = pd.concat(\n",
        "    [lyrics.drop(['Unnamed: 0', 'polarity'], axis=1), \n",
        "     lyrics['polarity'].apply(pd.Series)], axis=1)\n",
        "lyrics.head(3)"
      ],
      "metadata": {
        "colab": {
          "base_uri": "https://localhost:8080/",
          "height": 257
        },
        "id": "b6ADo71O2BHf",
        "outputId": "0e0c18ae-3091-4410-8d55-5f39106fc23d"
      },
      "execution_count": 14,
      "outputs": [
        {
          "output_type": "execute_result",
          "data": {
            "text/plain": [
              "            song-name                                             lyrics  \\\n",
              "0             Air Bud  strange strange days inside my mind is daily c...   \n",
              "1  All in a Daze Work   chinese charms and welltanked in burbank stru...   \n",
              "2           Amplifier  don't just stand  your head don't sit   turn a...   \n",
              "\n",
              "   release-year                           genius-path  \\\n",
              "0          2013             /Kurt-vile-air-bud-lyrics   \n",
              "1          2015  /Kurt-vile-all-in-a-daze-work-lyrics   \n",
              "2          2009           /Kurt-vile-amplifier-lyrics   \n",
              "\n",
              "                            lyrics_without_stopwords    neg    neu    pos  \\\n",
              "0  strange strange days inside mind daily changin...  0.151  0.795  0.054   \n",
              "1  chinese charms welltanked burbank strumming un...  0.228  0.676  0.095   \n",
              "2  stand head turn trees toss key 'cause home hom...  0.104  0.858  0.038   \n",
              "\n",
              "   compound  \n",
              "0   -0.8020  \n",
              "1   -0.9520  \n",
              "2   -0.5859  "
            ],
            "text/html": [
              "\n",
              "  <div id=\"df-515de8c3-95f2-4523-95b4-f8233b6c026d\">\n",
              "    <div class=\"colab-df-container\">\n",
              "      <div>\n",
              "<style scoped>\n",
              "    .dataframe tbody tr th:only-of-type {\n",
              "        vertical-align: middle;\n",
              "    }\n",
              "\n",
              "    .dataframe tbody tr th {\n",
              "        vertical-align: top;\n",
              "    }\n",
              "\n",
              "    .dataframe thead th {\n",
              "        text-align: right;\n",
              "    }\n",
              "</style>\n",
              "<table border=\"1\" class=\"dataframe\">\n",
              "  <thead>\n",
              "    <tr style=\"text-align: right;\">\n",
              "      <th></th>\n",
              "      <th>song-name</th>\n",
              "      <th>lyrics</th>\n",
              "      <th>release-year</th>\n",
              "      <th>genius-path</th>\n",
              "      <th>lyrics_without_stopwords</th>\n",
              "      <th>neg</th>\n",
              "      <th>neu</th>\n",
              "      <th>pos</th>\n",
              "      <th>compound</th>\n",
              "    </tr>\n",
              "  </thead>\n",
              "  <tbody>\n",
              "    <tr>\n",
              "      <th>0</th>\n",
              "      <td>Air Bud</td>\n",
              "      <td>strange strange days inside my mind is daily c...</td>\n",
              "      <td>2013</td>\n",
              "      <td>/Kurt-vile-air-bud-lyrics</td>\n",
              "      <td>strange strange days inside mind daily changin...</td>\n",
              "      <td>0.151</td>\n",
              "      <td>0.795</td>\n",
              "      <td>0.054</td>\n",
              "      <td>-0.8020</td>\n",
              "    </tr>\n",
              "    <tr>\n",
              "      <th>1</th>\n",
              "      <td>All in a Daze Work</td>\n",
              "      <td>chinese charms and welltanked in burbank stru...</td>\n",
              "      <td>2015</td>\n",
              "      <td>/Kurt-vile-all-in-a-daze-work-lyrics</td>\n",
              "      <td>chinese charms welltanked burbank strumming un...</td>\n",
              "      <td>0.228</td>\n",
              "      <td>0.676</td>\n",
              "      <td>0.095</td>\n",
              "      <td>-0.9520</td>\n",
              "    </tr>\n",
              "    <tr>\n",
              "      <th>2</th>\n",
              "      <td>Amplifier</td>\n",
              "      <td>don't just stand  your head don't sit   turn a...</td>\n",
              "      <td>2009</td>\n",
              "      <td>/Kurt-vile-amplifier-lyrics</td>\n",
              "      <td>stand head turn trees toss key 'cause home hom...</td>\n",
              "      <td>0.104</td>\n",
              "      <td>0.858</td>\n",
              "      <td>0.038</td>\n",
              "      <td>-0.5859</td>\n",
              "    </tr>\n",
              "  </tbody>\n",
              "</table>\n",
              "</div>\n",
              "      <button class=\"colab-df-convert\" onclick=\"convertToInteractive('df-515de8c3-95f2-4523-95b4-f8233b6c026d')\"\n",
              "              title=\"Convert this dataframe to an interactive table.\"\n",
              "              style=\"display:none;\">\n",
              "        \n",
              "  <svg xmlns=\"http://www.w3.org/2000/svg\" height=\"24px\"viewBox=\"0 0 24 24\"\n",
              "       width=\"24px\">\n",
              "    <path d=\"M0 0h24v24H0V0z\" fill=\"none\"/>\n",
              "    <path d=\"M18.56 5.44l.94 2.06.94-2.06 2.06-.94-2.06-.94-.94-2.06-.94 2.06-2.06.94zm-11 1L8.5 8.5l.94-2.06 2.06-.94-2.06-.94L8.5 2.5l-.94 2.06-2.06.94zm10 10l.94 2.06.94-2.06 2.06-.94-2.06-.94-.94-2.06-.94 2.06-2.06.94z\"/><path d=\"M17.41 7.96l-1.37-1.37c-.4-.4-.92-.59-1.43-.59-.52 0-1.04.2-1.43.59L10.3 9.45l-7.72 7.72c-.78.78-.78 2.05 0 2.83L4 21.41c.39.39.9.59 1.41.59.51 0 1.02-.2 1.41-.59l7.78-7.78 2.81-2.81c.8-.78.8-2.07 0-2.86zM5.41 20L4 18.59l7.72-7.72 1.47 1.35L5.41 20z\"/>\n",
              "  </svg>\n",
              "      </button>\n",
              "      \n",
              "  <style>\n",
              "    .colab-df-container {\n",
              "      display:flex;\n",
              "      flex-wrap:wrap;\n",
              "      gap: 12px;\n",
              "    }\n",
              "\n",
              "    .colab-df-convert {\n",
              "      background-color: #E8F0FE;\n",
              "      border: none;\n",
              "      border-radius: 50%;\n",
              "      cursor: pointer;\n",
              "      display: none;\n",
              "      fill: #1967D2;\n",
              "      height: 32px;\n",
              "      padding: 0 0 0 0;\n",
              "      width: 32px;\n",
              "    }\n",
              "\n",
              "    .colab-df-convert:hover {\n",
              "      background-color: #E2EBFA;\n",
              "      box-shadow: 0px 1px 2px rgba(60, 64, 67, 0.3), 0px 1px 3px 1px rgba(60, 64, 67, 0.15);\n",
              "      fill: #174EA6;\n",
              "    }\n",
              "\n",
              "    [theme=dark] .colab-df-convert {\n",
              "      background-color: #3B4455;\n",
              "      fill: #D2E3FC;\n",
              "    }\n",
              "\n",
              "    [theme=dark] .colab-df-convert:hover {\n",
              "      background-color: #434B5C;\n",
              "      box-shadow: 0px 1px 3px 1px rgba(0, 0, 0, 0.15);\n",
              "      filter: drop-shadow(0px 1px 2px rgba(0, 0, 0, 0.3));\n",
              "      fill: #FFFFFF;\n",
              "    }\n",
              "  </style>\n",
              "\n",
              "      <script>\n",
              "        const buttonEl =\n",
              "          document.querySelector('#df-515de8c3-95f2-4523-95b4-f8233b6c026d button.colab-df-convert');\n",
              "        buttonEl.style.display =\n",
              "          google.colab.kernel.accessAllowed ? 'block' : 'none';\n",
              "\n",
              "        async function convertToInteractive(key) {\n",
              "          const element = document.querySelector('#df-515de8c3-95f2-4523-95b4-f8233b6c026d');\n",
              "          const dataTable =\n",
              "            await google.colab.kernel.invokeFunction('convertToInteractive',\n",
              "                                                     [key], {});\n",
              "          if (!dataTable) return;\n",
              "\n",
              "          const docLinkHtml = 'Like what you see? Visit the ' +\n",
              "            '<a target=\"_blank\" href=https://colab.research.google.com/notebooks/data_table.ipynb>data table notebook</a>'\n",
              "            + ' to learn more about interactive tables.';\n",
              "          element.innerHTML = '';\n",
              "          dataTable['output_type'] = 'display_data';\n",
              "          await google.colab.output.renderOutput(dataTable, element);\n",
              "          const docLink = document.createElement('div');\n",
              "          docLink.innerHTML = docLinkHtml;\n",
              "          element.appendChild(docLink);\n",
              "        }\n",
              "      </script>\n",
              "    </div>\n",
              "  </div>\n",
              "  "
            ]
          },
          "metadata": {},
          "execution_count": 14
        }
      ]
    },
    {
      "cell_type": "code",
      "source": [
        "# Create new variable with sentiment \"neutral,\" \"positive\" and \"negative\"\n",
        "lyrics['sentiment'] = lyrics['compound'].apply(lambda x: 'positive' if x >0 else 'neutral' if x==0 else 'negative')\n",
        "lyrics.head(4)"
      ],
      "metadata": {
        "colab": {
          "base_uri": "https://localhost:8080/",
          "height": 306
        },
        "id": "VrTjcH8sM5ad",
        "outputId": "18f85c95-da07-4cd4-8017-dd9c40c7ce08"
      },
      "execution_count": 15,
      "outputs": [
        {
          "output_type": "execute_result",
          "data": {
            "text/plain": [
              "            song-name                                             lyrics  \\\n",
              "0             Air Bud  strange strange days inside my mind is daily c...   \n",
              "1  All in a Daze Work   chinese charms and welltanked in burbank stru...   \n",
              "2           Amplifier  don't just stand  your head don't sit   turn a...   \n",
              "3         Baby’s Arms  there has been but one true love in my babys a...   \n",
              "\n",
              "   release-year                           genius-path  \\\n",
              "0          2013             /Kurt-vile-air-bud-lyrics   \n",
              "1          2015  /Kurt-vile-all-in-a-daze-work-lyrics   \n",
              "2          2009           /Kurt-vile-amplifier-lyrics   \n",
              "3          2011          /Kurt-vile-babys-arms-lyrics   \n",
              "\n",
              "                            lyrics_without_stopwords    neg    neu    pos  \\\n",
              "0  strange strange days inside mind daily changin...  0.151  0.795  0.054   \n",
              "1  chinese charms welltanked burbank strumming un...  0.228  0.676  0.095   \n",
              "2  stand head turn trees toss key 'cause home hom...  0.104  0.858  0.038   \n",
              "3  love babys arms babys arms hands hold sick hid...  0.106  0.729  0.165   \n",
              "\n",
              "   compound sentiment  \n",
              "0   -0.8020  negative  \n",
              "1   -0.9520  negative  \n",
              "2   -0.5859  negative  \n",
              "3    0.9331  positive  "
            ],
            "text/html": [
              "\n",
              "  <div id=\"df-06ba13aa-d7a6-46f7-9424-b2fc185b8112\">\n",
              "    <div class=\"colab-df-container\">\n",
              "      <div>\n",
              "<style scoped>\n",
              "    .dataframe tbody tr th:only-of-type {\n",
              "        vertical-align: middle;\n",
              "    }\n",
              "\n",
              "    .dataframe tbody tr th {\n",
              "        vertical-align: top;\n",
              "    }\n",
              "\n",
              "    .dataframe thead th {\n",
              "        text-align: right;\n",
              "    }\n",
              "</style>\n",
              "<table border=\"1\" class=\"dataframe\">\n",
              "  <thead>\n",
              "    <tr style=\"text-align: right;\">\n",
              "      <th></th>\n",
              "      <th>song-name</th>\n",
              "      <th>lyrics</th>\n",
              "      <th>release-year</th>\n",
              "      <th>genius-path</th>\n",
              "      <th>lyrics_without_stopwords</th>\n",
              "      <th>neg</th>\n",
              "      <th>neu</th>\n",
              "      <th>pos</th>\n",
              "      <th>compound</th>\n",
              "      <th>sentiment</th>\n",
              "    </tr>\n",
              "  </thead>\n",
              "  <tbody>\n",
              "    <tr>\n",
              "      <th>0</th>\n",
              "      <td>Air Bud</td>\n",
              "      <td>strange strange days inside my mind is daily c...</td>\n",
              "      <td>2013</td>\n",
              "      <td>/Kurt-vile-air-bud-lyrics</td>\n",
              "      <td>strange strange days inside mind daily changin...</td>\n",
              "      <td>0.151</td>\n",
              "      <td>0.795</td>\n",
              "      <td>0.054</td>\n",
              "      <td>-0.8020</td>\n",
              "      <td>negative</td>\n",
              "    </tr>\n",
              "    <tr>\n",
              "      <th>1</th>\n",
              "      <td>All in a Daze Work</td>\n",
              "      <td>chinese charms and welltanked in burbank stru...</td>\n",
              "      <td>2015</td>\n",
              "      <td>/Kurt-vile-all-in-a-daze-work-lyrics</td>\n",
              "      <td>chinese charms welltanked burbank strumming un...</td>\n",
              "      <td>0.228</td>\n",
              "      <td>0.676</td>\n",
              "      <td>0.095</td>\n",
              "      <td>-0.9520</td>\n",
              "      <td>negative</td>\n",
              "    </tr>\n",
              "    <tr>\n",
              "      <th>2</th>\n",
              "      <td>Amplifier</td>\n",
              "      <td>don't just stand  your head don't sit   turn a...</td>\n",
              "      <td>2009</td>\n",
              "      <td>/Kurt-vile-amplifier-lyrics</td>\n",
              "      <td>stand head turn trees toss key 'cause home hom...</td>\n",
              "      <td>0.104</td>\n",
              "      <td>0.858</td>\n",
              "      <td>0.038</td>\n",
              "      <td>-0.5859</td>\n",
              "      <td>negative</td>\n",
              "    </tr>\n",
              "    <tr>\n",
              "      <th>3</th>\n",
              "      <td>Baby’s Arms</td>\n",
              "      <td>there has been but one true love in my babys a...</td>\n",
              "      <td>2011</td>\n",
              "      <td>/Kurt-vile-babys-arms-lyrics</td>\n",
              "      <td>love babys arms babys arms hands hold sick hid...</td>\n",
              "      <td>0.106</td>\n",
              "      <td>0.729</td>\n",
              "      <td>0.165</td>\n",
              "      <td>0.9331</td>\n",
              "      <td>positive</td>\n",
              "    </tr>\n",
              "  </tbody>\n",
              "</table>\n",
              "</div>\n",
              "      <button class=\"colab-df-convert\" onclick=\"convertToInteractive('df-06ba13aa-d7a6-46f7-9424-b2fc185b8112')\"\n",
              "              title=\"Convert this dataframe to an interactive table.\"\n",
              "              style=\"display:none;\">\n",
              "        \n",
              "  <svg xmlns=\"http://www.w3.org/2000/svg\" height=\"24px\"viewBox=\"0 0 24 24\"\n",
              "       width=\"24px\">\n",
              "    <path d=\"M0 0h24v24H0V0z\" fill=\"none\"/>\n",
              "    <path d=\"M18.56 5.44l.94 2.06.94-2.06 2.06-.94-2.06-.94-.94-2.06-.94 2.06-2.06.94zm-11 1L8.5 8.5l.94-2.06 2.06-.94-2.06-.94L8.5 2.5l-.94 2.06-2.06.94zm10 10l.94 2.06.94-2.06 2.06-.94-2.06-.94-.94-2.06-.94 2.06-2.06.94z\"/><path d=\"M17.41 7.96l-1.37-1.37c-.4-.4-.92-.59-1.43-.59-.52 0-1.04.2-1.43.59L10.3 9.45l-7.72 7.72c-.78.78-.78 2.05 0 2.83L4 21.41c.39.39.9.59 1.41.59.51 0 1.02-.2 1.41-.59l7.78-7.78 2.81-2.81c.8-.78.8-2.07 0-2.86zM5.41 20L4 18.59l7.72-7.72 1.47 1.35L5.41 20z\"/>\n",
              "  </svg>\n",
              "      </button>\n",
              "      \n",
              "  <style>\n",
              "    .colab-df-container {\n",
              "      display:flex;\n",
              "      flex-wrap:wrap;\n",
              "      gap: 12px;\n",
              "    }\n",
              "\n",
              "    .colab-df-convert {\n",
              "      background-color: #E8F0FE;\n",
              "      border: none;\n",
              "      border-radius: 50%;\n",
              "      cursor: pointer;\n",
              "      display: none;\n",
              "      fill: #1967D2;\n",
              "      height: 32px;\n",
              "      padding: 0 0 0 0;\n",
              "      width: 32px;\n",
              "    }\n",
              "\n",
              "    .colab-df-convert:hover {\n",
              "      background-color: #E2EBFA;\n",
              "      box-shadow: 0px 1px 2px rgba(60, 64, 67, 0.3), 0px 1px 3px 1px rgba(60, 64, 67, 0.15);\n",
              "      fill: #174EA6;\n",
              "    }\n",
              "\n",
              "    [theme=dark] .colab-df-convert {\n",
              "      background-color: #3B4455;\n",
              "      fill: #D2E3FC;\n",
              "    }\n",
              "\n",
              "    [theme=dark] .colab-df-convert:hover {\n",
              "      background-color: #434B5C;\n",
              "      box-shadow: 0px 1px 3px 1px rgba(0, 0, 0, 0.15);\n",
              "      filter: drop-shadow(0px 1px 2px rgba(0, 0, 0, 0.3));\n",
              "      fill: #FFFFFF;\n",
              "    }\n",
              "  </style>\n",
              "\n",
              "      <script>\n",
              "        const buttonEl =\n",
              "          document.querySelector('#df-06ba13aa-d7a6-46f7-9424-b2fc185b8112 button.colab-df-convert');\n",
              "        buttonEl.style.display =\n",
              "          google.colab.kernel.accessAllowed ? 'block' : 'none';\n",
              "\n",
              "        async function convertToInteractive(key) {\n",
              "          const element = document.querySelector('#df-06ba13aa-d7a6-46f7-9424-b2fc185b8112');\n",
              "          const dataTable =\n",
              "            await google.colab.kernel.invokeFunction('convertToInteractive',\n",
              "                                                     [key], {});\n",
              "          if (!dataTable) return;\n",
              "\n",
              "          const docLinkHtml = 'Like what you see? Visit the ' +\n",
              "            '<a target=\"_blank\" href=https://colab.research.google.com/notebooks/data_table.ipynb>data table notebook</a>'\n",
              "            + ' to learn more about interactive tables.';\n",
              "          element.innerHTML = '';\n",
              "          dataTable['output_type'] = 'display_data';\n",
              "          await google.colab.output.renderOutput(dataTable, element);\n",
              "          const docLink = document.createElement('div');\n",
              "          docLink.innerHTML = docLinkHtml;\n",
              "          element.appendChild(docLink);\n",
              "        }\n",
              "      </script>\n",
              "    </div>\n",
              "  </div>\n",
              "  "
            ]
          },
          "metadata": {},
          "execution_count": 15
        }
      ]
    },
    {
      "cell_type": "code",
      "source": [
        "# Box plot of sentiments in Kurt Vile songs\n",
        "fig1, ax1 = plt.subplots()\n",
        "ax1.set_title('Distribution of sentiment in Kurt Vile songs ')\n",
        "ax1.boxplot([lyrics['neg'].tolist(), lyrics['neu'].tolist(), lyrics['pos'].tolist(), lyrics['compound'].tolist()], )\n",
        "plt.xticks([1, 2, 3,4], ['neg', 'neu', 'pos', 'compound'])"
      ],
      "metadata": {
        "colab": {
          "base_uri": "https://localhost:8080/",
          "height": 595
        },
        "id": "FUmx_FLZywj2",
        "outputId": "f925935e-3d22-4ad5-df32-178efbe8c69c"
      },
      "execution_count": 21,
      "outputs": [
        {
          "output_type": "execute_result",
          "data": {
            "text/plain": [
              "([<matplotlib.axis.XTick at 0x7f3c122fdae0>,\n",
              "  <matplotlib.axis.XTick at 0x7f3c122fdab0>,\n",
              "  <matplotlib.axis.XTick at 0x7f3c122fc9d0>,\n",
              "  <matplotlib.axis.XTick at 0x7f3c12166500>],\n",
              " [Text(1, 0, 'neg'),\n",
              "  Text(2, 0, 'neu'),\n",
              "  Text(3, 0, 'pos'),\n",
              "  Text(4, 0, 'compound')])"
            ]
          },
          "metadata": {},
          "execution_count": 21
        },
        {
          "output_type": "display_data",
          "data": {
            "text/plain": [
              "<Figure size 640x480 with 1 Axes>"
            ],
            "image/png": "[encoded data removed]"
          },
          "metadata": {}
        }
      ]
    },
    {
      "cell_type": "markdown",
      "source": [
        "Kurt Vile's songs express similar levels of negative and positive sentiments, with the median positive sentiment being only slightly higher than the median negative sentiment. The words in his songs are mostly neutral in nature, but the average sentiment of his songs is positive (despite overall sentiments ranging from very negative to very positive). This makes sense, Kurt Vile's lyrics mostly describe his environment and arrive at grand truths based on his observations."
      ],
      "metadata": {
        "id": "_OYH4qqc5W5R"
      }
    },
    {
      "cell_type": "markdown",
      "source": [
        "Now I want to visualize sentiment information about my favorite Kurt Vile songs."
      ],
      "metadata": {
        "id": "0ZxxFIUxZb1-"
      }
    },
    {
      "cell_type": "code",
      "source": [
        "favorites = ['Baby’s Arms', 'Wakin on a Pretty Day', 'Say the Word', 'Bassackwards', 'Cold Was the Wind', 'All in a Daze Work', 'Was All Talk']"
      ],
      "metadata": {
        "id": "uZB1KNGlXXgr"
      },
      "execution_count": 32,
      "outputs": []
    },
    {
      "cell_type": "code",
      "source": [
        "lyrics.loc[lyrics['song-name'].isin(favorites)]\n"
      ],
      "metadata": {
        "colab": {
          "base_uri": "https://localhost:8080/",
          "height": 403
        },
        "id": "AYTm5g7bOzPP",
        "outputId": "95adec19-59a6-4da6-ed8b-b87949bf20ae"
      },
      "execution_count": 33,
      "outputs": [
        {
          "output_type": "execute_result",
          "data": {
            "text/plain": [
              "                song-name                                             lyrics  \\\n",
              "1      All in a Daze Work   chinese charms and welltanked in burbank stru...   \n",
              "3             Baby’s Arms  there has been but one true love in my babys a...   \n",
              "4            Bassackwards   what's in realwhat's in real time ha ha ha   ...   \n",
              "12      Cold Was the Wind  cold was the wind on my frozen face but i didn...   \n",
              "90  Wakin on a Pretty Day   wakin' the dawn of day and i gotta think abou...   \n",
              "91           Was All Talk   spirit in the sky transparent to the eye talk...   \n",
              "\n",
              "    release-year                              genius-path  \\\n",
              "1           2015     /Kurt-vile-all-in-a-daze-work-lyrics   \n",
              "3           2011             /Kurt-vile-babys-arms-lyrics   \n",
              "4           2018           /Kurt-vile-bassackwards-lyrics   \n",
              "12          2018      /Kurt-vile-cold-was-the-wind-lyrics   \n",
              "90          2013  /Kurt-vile-wakin-on-a-pretty-day-lyrics   \n",
              "91          2013           /Kurt-vile-was-all-talk-lyrics   \n",
              "\n",
              "                             lyrics_without_stopwords    neg    neu    pos  \\\n",
              "1   chinese charms welltanked burbank strumming un...  0.228  0.676  0.095   \n",
              "3   love babys arms babys arms hands hold sick hid...  0.106  0.729  0.165   \n",
              "4   realwhat's real time beach bay bay away ground...  0.020  0.793  0.188   \n",
              "12  cold wind frozen mind long cold wind brow wann...  0.121  0.794  0.085   \n",
              "90  wakin' dawn day gotta wanna phone ringing shel...  0.388  0.548  0.064   \n",
              "91  spirit sky transparent eye talking trash human...  0.028  0.834  0.137   \n",
              "\n",
              "    compound sentiment  \n",
              "1    -0.9520  negative  \n",
              "3     0.9331  positive  \n",
              "4     0.9783  positive  \n",
              "12   -0.8674  negative  \n",
              "90   -0.9965  negative  \n",
              "91    0.9517  positive  "
            ],
            "text/html": [
              "\n",
              "  <div id=\"df-a09dc918-78a2-4b24-bd97-c46424e35410\">\n",
              "    <div class=\"colab-df-container\">\n",
              "      <div>\n",
              "<style scoped>\n",
              "    .dataframe tbody tr th:only-of-type {\n",
              "        vertical-align: middle;\n",
              "    }\n",
              "\n",
              "    .dataframe tbody tr th {\n",
              "        vertical-align: top;\n",
              "    }\n",
              "\n",
              "    .dataframe thead th {\n",
              "        text-align: right;\n",
              "    }\n",
              "</style>\n",
              "<table border=\"1\" class=\"dataframe\">\n",
              "  <thead>\n",
              "    <tr style=\"text-align: right;\">\n",
              "      <th></th>\n",
              "      <th>song-name</th>\n",
              "      <th>lyrics</th>\n",
              "      <th>release-year</th>\n",
              "      <th>genius-path</th>\n",
              "      <th>lyrics_without_stopwords</th>\n",
              "      <th>neg</th>\n",
              "      <th>neu</th>\n",
              "      <th>pos</th>\n",
              "      <th>compound</th>\n",
              "      <th>sentiment</th>\n",
              "    </tr>\n",
              "  </thead>\n",
              "  <tbody>\n",
              "    <tr>\n",
              "      <th>1</th>\n",
              "      <td>All in a Daze Work</td>\n",
              "      <td>chinese charms and welltanked in burbank stru...</td>\n",
              "      <td>2015</td>\n",
              "      <td>/Kurt-vile-all-in-a-daze-work-lyrics</td>\n",
              "      <td>chinese charms welltanked burbank strumming un...</td>\n",
              "      <td>0.228</td>\n",
              "      <td>0.676</td>\n",
              "      <td>0.095</td>\n",
              "      <td>-0.9520</td>\n",
              "      <td>negative</td>\n",
              "    </tr>\n",
              "    <tr>\n",
              "      <th>3</th>\n",
              "      <td>Baby’s Arms</td>\n",
              "      <td>there has been but one true love in my babys a...</td>\n",
              "      <td>2011</td>\n",
              "      <td>/Kurt-vile-babys-arms-lyrics</td>\n",
              "      <td>love babys arms babys arms hands hold sick hid...</td>\n",
              "      <td>0.106</td>\n",
              "      <td>0.729</td>\n",
              "      <td>0.165</td>\n",
              "      <td>0.9331</td>\n",
              "      <td>positive</td>\n",
              "    </tr>\n",
              "    <tr>\n",
              "      <th>4</th>\n",
              "      <td>Bassackwards</td>\n",
              "      <td>what's in realwhat's in real time ha ha ha   ...</td>\n",
              "      <td>2018</td>\n",
              "      <td>/Kurt-vile-bassackwards-lyrics</td>\n",
              "      <td>realwhat's real time beach bay bay away ground...</td>\n",
              "      <td>0.020</td>\n",
              "      <td>0.793</td>\n",
              "      <td>0.188</td>\n",
              "      <td>0.9783</td>\n",
              "      <td>positive</td>\n",
              "    </tr>\n",
              "    <tr>\n",
              "      <th>12</th>\n",
              "      <td>Cold Was the Wind</td>\n",
              "      <td>cold was the wind on my frozen face but i didn...</td>\n",
              "      <td>2018</td>\n",
              "      <td>/Kurt-vile-cold-was-the-wind-lyrics</td>\n",
              "      <td>cold wind frozen mind long cold wind brow wann...</td>\n",
              "      <td>0.121</td>\n",
              "      <td>0.794</td>\n",
              "      <td>0.085</td>\n",
              "      <td>-0.8674</td>\n",
              "      <td>negative</td>\n",
              "    </tr>\n",
              "    <tr>\n",
              "      <th>90</th>\n",
              "      <td>Wakin on a Pretty Day</td>\n",
              "      <td>wakin' the dawn of day and i gotta think abou...</td>\n",
              "      <td>2013</td>\n",
              "      <td>/Kurt-vile-wakin-on-a-pretty-day-lyrics</td>\n",
              "      <td>wakin' dawn day gotta wanna phone ringing shel...</td>\n",
              "      <td>0.388</td>\n",
              "      <td>0.548</td>\n",
              "      <td>0.064</td>\n",
              "      <td>-0.9965</td>\n",
              "      <td>negative</td>\n",
              "    </tr>\n",
              "    <tr>\n",
              "      <th>91</th>\n",
              "      <td>Was All Talk</td>\n",
              "      <td>spirit in the sky transparent to the eye talk...</td>\n",
              "      <td>2013</td>\n",
              "      <td>/Kurt-vile-was-all-talk-lyrics</td>\n",
              "      <td>spirit sky transparent eye talking trash human...</td>\n",
              "      <td>0.028</td>\n",
              "      <td>0.834</td>\n",
              "      <td>0.137</td>\n",
              "      <td>0.9517</td>\n",
              "      <td>positive</td>\n",
              "    </tr>\n",
              "  </tbody>\n",
              "</table>\n",
              "</div>\n",
              "      <button class=\"colab-df-convert\" onclick=\"convertToInteractive('df-a09dc918-78a2-4b24-bd97-c46424e35410')\"\n",
              "              title=\"Convert this dataframe to an interactive table.\"\n",
              "              style=\"display:none;\">\n",
              "        \n",
              "  <svg xmlns=\"http://www.w3.org/2000/svg\" height=\"24px\"viewBox=\"0 0 24 24\"\n",
              "       width=\"24px\">\n",
              "    <path d=\"M0 0h24v24H0V0z\" fill=\"none\"/>\n",
              "    <path d=\"M18.56 5.44l.94 2.06.94-2.06 2.06-.94-2.06-.94-.94-2.06-.94 2.06-2.06.94zm-11 1L8.5 8.5l.94-2.06 2.06-.94-2.06-.94L8.5 2.5l-.94 2.06-2.06.94zm10 10l.94 2.06.94-2.06 2.06-.94-2.06-.94-.94-2.06-.94 2.06-2.06.94z\"/><path d=\"M17.41 7.96l-1.37-1.37c-.4-.4-.92-.59-1.43-.59-.52 0-1.04.2-1.43.59L10.3 9.45l-7.72 7.72c-.78.78-.78 2.05 0 2.83L4 21.41c.39.39.9.59 1.41.59.51 0 1.02-.2 1.41-.59l7.78-7.78 2.81-2.81c.8-.78.8-2.07 0-2.86zM5.41 20L4 18.59l7.72-7.72 1.47 1.35L5.41 20z\"/>\n",
              "  </svg>\n",
              "      </button>\n",
              "      \n",
              "  <style>\n",
              "    .colab-df-container {\n",
              "      display:flex;\n",
              "      flex-wrap:wrap;\n",
              "      gap: 12px;\n",
              "    }\n",
              "\n",
              "    .colab-df-convert {\n",
              "      background-color: #E8F0FE;\n",
              "      border: none;\n",
              "      border-radius: 50%;\n",
              "      cursor: pointer;\n",
              "      display: none;\n",
              "      fill: #1967D2;\n",
              "      height: 32px;\n",
              "      padding: 0 0 0 0;\n",
              "      width: 32px;\n",
              "    }\n",
              "\n",
              "    .colab-df-convert:hover {\n",
              "      background-color: #E2EBFA;\n",
              "      box-shadow: 0px 1px 2px rgba(60, 64, 67, 0.3), 0px 1px 3px 1px rgba(60, 64, 67, 0.15);\n",
              "      fill: #174EA6;\n",
              "    }\n",
              "\n",
              "    [theme=dark] .colab-df-convert {\n",
              "      background-color: #3B4455;\n",
              "      fill: #D2E3FC;\n",
              "    }\n",
              "\n",
              "    [theme=dark] .colab-df-convert:hover {\n",
              "      background-color: #434B5C;\n",
              "      box-shadow: 0px 1px 3px 1px rgba(0, 0, 0, 0.15);\n",
              "      filter: drop-shadow(0px 1px 2px rgba(0, 0, 0, 0.3));\n",
              "      fill: #FFFFFF;\n",
              "    }\n",
              "  </style>\n",
              "\n",
              "      <script>\n",
              "        const buttonEl =\n",
              "          document.querySelector('#df-a09dc918-78a2-4b24-bd97-c46424e35410 button.colab-df-convert');\n",
              "        buttonEl.style.display =\n",
              "          google.colab.kernel.accessAllowed ? 'block' : 'none';\n",
              "\n",
              "        async function convertToInteractive(key) {\n",
              "          const element = document.querySelector('#df-a09dc918-78a2-4b24-bd97-c46424e35410');\n",
              "          const dataTable =\n",
              "            await google.colab.kernel.invokeFunction('convertToInteractive',\n",
              "                                                     [key], {});\n",
              "          if (!dataTable) return;\n",
              "\n",
              "          const docLinkHtml = 'Like what you see? Visit the ' +\n",
              "            '<a target=\"_blank\" href=https://colab.research.google.com/notebooks/data_table.ipynb>data table notebook</a>'\n",
              "            + ' to learn more about interactive tables.';\n",
              "          element.innerHTML = '';\n",
              "          dataTable['output_type'] = 'display_data';\n",
              "          await google.colab.output.renderOutput(dataTable, element);\n",
              "          const docLink = document.createElement('div');\n",
              "          docLink.innerHTML = docLinkHtml;\n",
              "          element.appendChild(docLink);\n",
              "        }\n",
              "      </script>\n",
              "    </div>\n",
              "  </div>\n",
              "  "
            ]
          },
          "metadata": {},
          "execution_count": 33
        }
      ]
    },
    {
      "cell_type": "code",
      "source": [
        "ax = lyrics.loc[lyrics['song-name'].isin(favorites)].plot.barh(x= 'song-name', y = ['neg', 'pos', 'neu'], stacked=True, color=[color1, color2, '#4516cc'])\n",
        "ax.set_ylabel(\"Song name\")\n",
        "ax.set_xlabel(\"Sentiment score\")\n",
        "ax.set_title('Sentiment scores of my favorite Kurt Vile songs')"
      ],
      "metadata": {
        "colab": {
          "base_uri": "https://localhost:8080/",
          "height": 490
        },
        "id": "QChdUTgqmnpp",
        "outputId": "eced3cde-f0eb-4be2-a852-6b7e13ea229c"
      },
      "execution_count": 39,
      "outputs": [
        {
          "output_type": "execute_result",
          "data": {
            "text/plain": [
              "Text(0.5, 1.0, 'Sentiment scores of my favorite Kurt Vile songs')"
            ]
          },
          "metadata": {},
          "execution_count": 39
        },
        {
          "output_type": "display_data",
          "data": {
            "text/plain": [
              "<Figure size 640x480 with 1 Axes>"
            ],
            "image/png": "[encoded data removed]"
          },
          "metadata": {}
        }
      ]
    },
    {
      "cell_type": "markdown",
      "source": [
        "Kurt Vile's \"Wakin' on a Pretty Day,\" \"All in a Daze Work,\" and \"Cold Was the Wind\" are the most negative songs out of my favorites. \"Wakin' on a Pretty Day\" is a song about wanting to be loving and grateful despite lacking enthusiasm for life. It alludes to suicide in a line about a telephone ringing off its shelf, 'I guess he wanted to kill himself' which definitely contributed to the negative sentiment score of the song. \"All in a Daze Work\"'s phrases \" lying here bleedin'\" and \"cut wide open\" are jarring depictions of a broken heart. \"Cold Was the Wind\" touches upon Kurt Vile's fear of death."
      ],
      "metadata": {
        "id": "Gw5wtaN0CbeC"
      }
    },
    {
      "cell_type": "code",
      "source": [
        "mask1 = lyrics.loc[lyrics['song-name'].isin(favorites)]['compound']<0\n",
        "mask2 = lyrics.loc[lyrics['song-name'].isin(favorites)]['compound']>0 \n",
        "\n",
        "fig, ax = plt.subplots()\n",
        " \n",
        "# creating the bar plot\n",
        "rects1 = ax.barh(lyrics.loc[lyrics['song-name'].isin(favorites)][mask1]['song-name'],\n",
        "         lyrics.loc[lyrics['song-name'].isin(favorites)][mask1]['compound'],\n",
        "        color=color1)\n",
        "\n",
        "\n",
        "rects2 = ax.barh(lyrics.loc[lyrics['song-name'].isin(favorites)][mask2]['song-name'],\n",
        "         lyrics.loc[lyrics['song-name'].isin(favorites)][mask2]['compound'], \n",
        "         color=color2)\n",
        "\n",
        "ax.set_xlabel('Compound score')\n",
        "ax.set_title('Compound score and overall sentiment of my favorite Kurt Vile songs')\n",
        "ax.legend((rects1[0], rects2[0]), ('Negative', 'Positive'))\n",
        "\n",
        "\n",
        "def autolabel(rects):\n",
        "  '''\n",
        "  Attack a text label next to each bar displaying its width\n",
        "  '''\n",
        "  for rect in rects:\n",
        "    width = rect.get_width()\n",
        "    if width >0:\n",
        "      ax.text(rect.get_width(), rect.get_y()+rect.get_height()/2, width, ha='right', va='center', fontdict = {'color' : 'white', 'weight': 'bold'})\n",
        "    else:\n",
        "      ax.text(rect.get_width(), rect.get_y()+rect.get_height()/2, width, ha='left', va='center', fontdict = {'color' : 'white', 'weight': 'bold'})\n",
        "\n",
        "\n",
        "\n",
        "autolabel(rects1)\n",
        "autolabel(rects2)"
      ],
      "metadata": {
        "colab": {
          "base_uri": "https://localhost:8080/",
          "height": 472
        },
        "id": "Tjgs3gkCquqN",
        "outputId": "9487826a-6ce0-41b7-84cb-8f4670391ded"
      },
      "execution_count": 40,
      "outputs": [
        {
          "output_type": "display_data",
          "data": {
            "text/plain": [
              "<Figure size 640x480 with 1 Axes>"
            ],
            "image/png": "[encoded data removed]"
          },
          "metadata": {}
        }
      ]
    },
    {
      "cell_type": "markdown",
      "source": [
        "As expected, \"Wakin on a Pretty Day,\" \"Cold Was the Wind,\" and \"All in a Daze Work\" are songs that express an overall negative sentiment. \"Was All Talk,\" (Kurt being proud of his accomplishments), \"Baby's Arms\" (about finding comfort in your lover's arms), and \"Bassackwards\" (describes Kurt Vile's drug trip and his appreciation for his friend who helped him through a rough time) are all positive songs. "
      ],
      "metadata": {
        "id": "y5Vq4LOVHUkM"
      }
    }
  ]
}